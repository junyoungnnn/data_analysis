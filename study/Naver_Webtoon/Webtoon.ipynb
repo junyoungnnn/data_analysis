{
 "cells": [
  {
   "cell_type": "markdown",
   "id": "35f1ff65-5b84-4f22-9c15-164958d7a01b",
   "metadata": {},
   "source": [
    "# Naver Webtoon\n",
    "https://www.kaggle.com/datasets/bmofinnjake/naverwebtoon-datakorean"
   ]
  },
  {
   "cell_type": "markdown",
   "id": "b290e054-bc89-46c1-b77f-3a05b07dcc9a",
   "metadata": {},
   "source": [
    "설명: 네이버 웹툰과 네이버 베스트 도전 웹툰에 대한 정보가 포함된 데이터셋으로, 웹툰의 연재 상태, 장르, 평점 등을 바탕으로 웹툰의 인기도 및 성과를 분석할 수 있습니다.\n",
    "\n",
    "데이터셋: naver.csv, naver_challenge.csv"
   ]
  },
  {
   "cell_type": "markdown",
   "id": "fa11bf61-7773-4f6c-981e-2599ff8f3653",
   "metadata": {},
   "source": [
    "### `naver.csv` (네이버 웹툰 데이터)\n",
    "\n",
    "1. **id**: 웹툰의 고유 ID\n",
    "2. **title**: 웹툰 제목\n",
    "3. **author**: 작가\n",
    "4. **genre**: 장르\n",
    "5. **description**: 웹툰 소개\n",
    "6. **rating**: 웹툰의 평균 평점 (10점 만점)\n",
    "7. **date**: 웹툰의 최신 업데이트 날짜\n",
    "8. **completed**: 연재 완료 여부\n",
    "9. **age**: 추천 연령\n",
    "10. **free**: \"기다리면 무료\" 이벤트 가능 여부\n",
    "11. **link**: 웹툰 링크"
   ]
  },
  {
   "cell_type": "markdown",
   "id": "78affa9c-8179-495e-9cf4-b047abf8d2eb",
   "metadata": {},
   "source": [
    "### `naver_challenge.csv` (네이버 베스트 도전 웹툰 데이터)\n",
    "\n",
    "1. **id**: 웹툰의 고유 ID\n",
    "2. **title**: 웹툰 제목\n",
    "3. **author**: 작가 (마지막 문자열은 생략)\n",
    "4. **summary**: 웹툰 요약\n",
    "5. **rating**: 웹툰의 평점\n",
    "6. **genre**: 장르\n",
    "7. **format**: 웹툰 형식\n",
    "8. **description**: 웹툰 설명\n",
    "9. **serial**: 네이버 정식 연재 여부\n",
    "10. **potenup**: 포텐업 선정 여부"
   ]
  },
  {
   "cell_type": "markdown",
   "id": "16de8b86-ef07-4184-8ff7-62c01d683b3b",
   "metadata": {},
   "source": [
    "### **`naver.csv` 가설 3개**\n",
    "\n",
    "1. 가설: 연재 완료 여부(`completed`)가 웹툰의 평점(`rating`)에 영향을 줄 것이다.\n",
    "    \n",
    "    설명: 연재가 완료된 웹툰이 완료되지 않은 웹툰에 비해 더 높은 평점을 받을 것이다.\n",
    "    \n",
    "2. 가설: 장르(`genre`)가 평점(`rating`)에 영향을 줄 것이다.\n",
    "    \n",
    "    설명: 특정 장르(예: 로맨스, 드라마)가 다른 장르에 비해 평균적으로 더 높은 평점을 받을 것이다.\n",
    "    \n",
    "3. 가설: 연령 제한(`age`)이 기다리면 무료 여부(`free`)에 영향을 줄 것이다.\n",
    "    \n",
    "    설명: 낮은 연령층을 타겟으로 한 웹툰일수록 기다리면 무료 이벤트가 적용될 확률이 높을 것이다."
   ]
  },
  {
   "cell_type": "markdown",
   "id": "95eb3a60-138f-4593-81f4-78e543db7f7d",
   "metadata": {},
   "source": [
    "### **`naver_challenge.csv` 가설 3개**\n",
    "\n",
    "1. 가설: 포텐업 선정 여부(`potenup`)가 평점(`rating`)에 영향을 줄 것이다.\n",
    "    \n",
    "    설명: 포텐업에 선정된 웹툰이 선정되지 않은 웹툰에 비해 더 높은 평점을 받을 것이다.\n",
    "    \n",
    "2. 가설: 장르(`genre`)가 정식 연재 여부(`serial`)에 영향을 줄 것이다.\n",
    "    \n",
    "    설명: 특정 장르(예: 판타지, 드라마)가 다른 장르보다 정식 연재될 확률이 높을 것이다.\n",
    "    \n",
    "3. 가설: 형식(`format`)이 정식 연재 여부(`serial`)에 영향을 줄 것이다.\n",
    "    \n",
    "    설명: 웹툰 형식(예: 단편, 장편)이 정식 연재로 이어질 가능성에 차이가 있을 것이다."
   ]
  },
  {
   "cell_type": "markdown",
   "id": "27df06c4-30be-4a0d-aaf4-306d6c60f3d9",
   "metadata": {},
   "source": [
    "### **두 데이터셋을 병합해야 검증 가능한 가설 1개**\n",
    "\n",
    "1. **타겟 변수: `rating` (평점)**가설: 베스트 도전 웹툰의 평점(`naver_challenge.csv`)과 정식 연재 후 평점(`naver.csv`)이 변화할 것이다.\n",
    "\n",
    "설명: 베스트 도전에서 정식 연재로 이어진 웹툰들은 정식 연재 이후 더 높은 평점을 받을 가능성이 있을 것이다."
   ]
  },
  {
   "cell_type": "code",
   "execution_count": 1,
   "id": "44c8da63-4519-490e-9b93-617eb079aac3",
   "metadata": {},
   "outputs": [],
   "source": [
    "# 운영 체제마다 한글이 보이게 하는 설정\n",
    "# 윈도우\n",
    "import platform\n",
    "import matplotlib\n",
    "from matplotlib import font_manager, rc\n",
    "\n",
    "# '-' 기호 보이게 하기\n",
    "matplotlib.rcParams['axes.unicode_minus'] = False\n",
    "\n",
    "if platform.system() == 'Windows':\n",
    "    path = \"C:\\\\Windows\\\\Fonts\\\\malgun.ttf\"\n",
    "    font_name = font_manager.FontProperties(fname=path).get_name()\n",
    "    rc('font', family=font_name)"
   ]
  },
  {
   "cell_type": "code",
   "execution_count": 2,
   "id": "24ed2d82-3641-4061-9a51-012d5fa247d6",
   "metadata": {},
   "outputs": [],
   "source": [
    "import pandas as pd\n",
    "import numpy as np\n",
    "import matplotlib.pyplot as plt\n",
    "import seaborn as sns\n",
    "\n",
    "from statsmodels.graphics.mosaicplot import mosaic\n",
    "\n",
    "import scipy.stats as spst"
   ]
  },
  {
   "cell_type": "code",
   "execution_count": 3,
   "id": "a7b7f5a3-efba-4f92-88f2-74fc32b74898",
   "metadata": {},
   "outputs": [],
   "source": [
    "naver = pd.read_csv('./naver.csv')"
   ]
  },
  {
   "cell_type": "code",
   "execution_count": 4,
   "id": "535d7098-4e0b-498f-a6d3-9d04241f6bbd",
   "metadata": {},
   "outputs": [
    {
     "data": {
      "text/html": [
       "<div>\n",
       "<style scoped>\n",
       "    .dataframe tbody tr th:only-of-type {\n",
       "        vertical-align: middle;\n",
       "    }\n",
       "\n",
       "    .dataframe tbody tr th {\n",
       "        vertical-align: top;\n",
       "    }\n",
       "\n",
       "    .dataframe thead th {\n",
       "        text-align: right;\n",
       "    }\n",
       "</style>\n",
       "<table border=\"1\" class=\"dataframe\">\n",
       "  <thead>\n",
       "    <tr style=\"text-align: right;\">\n",
       "      <th></th>\n",
       "      <th>id</th>\n",
       "      <th>title</th>\n",
       "      <th>author</th>\n",
       "      <th>genre</th>\n",
       "      <th>description</th>\n",
       "      <th>rating</th>\n",
       "      <th>date</th>\n",
       "      <th>completed</th>\n",
       "      <th>age</th>\n",
       "      <th>free</th>\n",
       "      <th>link</th>\n",
       "    </tr>\n",
       "  </thead>\n",
       "  <tbody>\n",
       "    <tr>\n",
       "      <th>0</th>\n",
       "      <td>756056</td>\n",
       "      <td>가난을 등에 업은 소녀</td>\n",
       "      <td>B급달궁 / 오은지</td>\n",
       "      <td>스토리, 로맨스</td>\n",
       "      <td>흔하디 흔한 재벌후계자와 캔디도 울고 갈 박복한 가난소녀의 파란만장 동거기!인기작 ...</td>\n",
       "      <td>9.13</td>\n",
       "      <td>2020.10.19 00:00</td>\n",
       "      <td>True</td>\n",
       "      <td>전체연령가</td>\n",
       "      <td>True</td>\n",
       "      <td>https://comic.naver.com/webtoon/list?titleId=7...</td>\n",
       "    </tr>\n",
       "    <tr>\n",
       "      <th>1</th>\n",
       "      <td>670144</td>\n",
       "      <td>가담항설</td>\n",
       "      <td>랑또</td>\n",
       "      <td>스토리, 판타지</td>\n",
       "      <td>이번 주인공은 돌이다!돌이지만 동료도 모으고 악당도 물리친다!랑또 작가표 동양 판타...</td>\n",
       "      <td>9.98</td>\n",
       "      <td>2020.10.07 23:00</td>\n",
       "      <td>True</td>\n",
       "      <td>12세 이용가</td>\n",
       "      <td>True</td>\n",
       "      <td>https://comic.naver.com/webtoon/list?titleId=6...</td>\n",
       "    </tr>\n",
       "    <tr>\n",
       "      <th>2</th>\n",
       "      <td>732071</td>\n",
       "      <td>가령의 정체불명 이야기</td>\n",
       "      <td>가령</td>\n",
       "      <td>옴니버스, 드라마</td>\n",
       "      <td>어느 날... 인어가 내게 말을 걸어왔다. 눈을 떠보니 총구가 있었다. 그리고 몸이...</td>\n",
       "      <td>9.95</td>\n",
       "      <td>2020.02.03 23:22</td>\n",
       "      <td>True</td>\n",
       "      <td>15세 이용가</td>\n",
       "      <td>True</td>\n",
       "      <td>https://comic.naver.com/webtoon/list?titleId=7...</td>\n",
       "    </tr>\n",
       "    <tr>\n",
       "      <th>3</th>\n",
       "      <td>703844</td>\n",
       "      <td>가비지타임</td>\n",
       "      <td>2사장</td>\n",
       "      <td>스토리, 스포츠</td>\n",
       "      <td>한국 최초 한국형 고교스포츠 웹툰!열혈따윈 개나 줘, 낙오자들 뿐인 농구부의 운명은?</td>\n",
       "      <td>9.96</td>\n",
       "      <td>2022.12.24 22:57</td>\n",
       "      <td>False</td>\n",
       "      <td>전체연령가</td>\n",
       "      <td>False</td>\n",
       "      <td>https://comic.naver.com/webtoon/list?titleId=7...</td>\n",
       "    </tr>\n",
       "    <tr>\n",
       "      <th>4</th>\n",
       "      <td>785701</td>\n",
       "      <td>가상&amp;RPG</td>\n",
       "      <td>주다현</td>\n",
       "      <td>스토리, 판타지</td>\n",
       "      <td>\"사람은 좀 죽여도 싸우는건 싫어해요.\" 게임에서조차 집 바깥을 나가지 않는 '제리...</td>\n",
       "      <td>9.91</td>\n",
       "      <td>2022.10.19 23:00</td>\n",
       "      <td>False</td>\n",
       "      <td>12세 이용가</td>\n",
       "      <td>False</td>\n",
       "      <td>https://comic.naver.com/webtoon/list?titleId=7...</td>\n",
       "    </tr>\n",
       "  </tbody>\n",
       "</table>\n",
       "</div>"
      ],
      "text/plain": [
       "       id         title      author      genre  \\\n",
       "0  756056  가난을 등에 업은 소녀  B급달궁 / 오은지   스토리, 로맨스   \n",
       "1  670144          가담항설          랑또   스토리, 판타지   \n",
       "2  732071  가령의 정체불명 이야기          가령  옴니버스, 드라마   \n",
       "3  703844         가비지타임         2사장   스토리, 스포츠   \n",
       "4  785701        가상&RPG         주다현   스토리, 판타지   \n",
       "\n",
       "                                         description  rating  \\\n",
       "0  흔하디 흔한 재벌후계자와 캔디도 울고 갈 박복한 가난소녀의 파란만장 동거기!인기작 ...    9.13   \n",
       "1  이번 주인공은 돌이다!돌이지만 동료도 모으고 악당도 물리친다!랑또 작가표 동양 판타...    9.98   \n",
       "2  어느 날... 인어가 내게 말을 걸어왔다. 눈을 떠보니 총구가 있었다. 그리고 몸이...    9.95   \n",
       "3    한국 최초 한국형 고교스포츠 웹툰!열혈따윈 개나 줘, 낙오자들 뿐인 농구부의 운명은?    9.96   \n",
       "4  \"사람은 좀 죽여도 싸우는건 싫어해요.\" 게임에서조차 집 바깥을 나가지 않는 '제리...    9.91   \n",
       "\n",
       "               date  completed      age   free  \\\n",
       "0  2020.10.19 00:00       True    전체연령가   True   \n",
       "1  2020.10.07 23:00       True  12세 이용가   True   \n",
       "2  2020.02.03 23:22       True  15세 이용가   True   \n",
       "3  2022.12.24 22:57      False    전체연령가  False   \n",
       "4  2022.10.19 23:00      False  12세 이용가  False   \n",
       "\n",
       "                                                link  \n",
       "0  https://comic.naver.com/webtoon/list?titleId=7...  \n",
       "1  https://comic.naver.com/webtoon/list?titleId=6...  \n",
       "2  https://comic.naver.com/webtoon/list?titleId=7...  \n",
       "3  https://comic.naver.com/webtoon/list?titleId=7...  \n",
       "4  https://comic.naver.com/webtoon/list?titleId=7...  "
      ]
     },
     "execution_count": 4,
     "metadata": {},
     "output_type": "execute_result"
    }
   ],
   "source": [
    "naver.head()"
   ]
  },
  {
   "cell_type": "markdown",
   "id": "4297f0c8-bfb9-41d8-a7c5-d845bf5a502f",
   "metadata": {},
   "source": [
    "## naver 데이터셋 정보 확인"
   ]
  },
  {
   "cell_type": "code",
   "execution_count": 5,
   "id": "581d0df7-66c3-4799-8f9a-36259d671aad",
   "metadata": {},
   "outputs": [
    {
     "name": "stdout",
     "output_type": "stream",
     "text": [
      "<class 'pandas.core.frame.DataFrame'>\n",
      "RangeIndex: 2100 entries, 0 to 2099\n",
      "Data columns (total 11 columns):\n",
      " #   Column       Non-Null Count  Dtype  \n",
      "---  ------       --------------  -----  \n",
      " 0   id           2100 non-null   int64  \n",
      " 1   title        2100 non-null   object \n",
      " 2   author       2100 non-null   object \n",
      " 3   genre        2100 non-null   object \n",
      " 4   description  2100 non-null   object \n",
      " 5   rating       2100 non-null   float64\n",
      " 6   date         2100 non-null   object \n",
      " 7   completed    2100 non-null   bool   \n",
      " 8   age          1998 non-null   object \n",
      " 9   free         2100 non-null   bool   \n",
      " 10  link         2100 non-null   object \n",
      "dtypes: bool(2), float64(1), int64(1), object(7)\n",
      "memory usage: 151.9+ KB\n"
     ]
    }
   ],
   "source": [
    "naver.info()"
   ]
  },
  {
   "cell_type": "code",
   "execution_count": 6,
   "id": "3d63441c-9201-45a2-8948-439635bcadaf",
   "metadata": {},
   "outputs": [
    {
     "data": {
      "text/html": [
       "<div>\n",
       "<style scoped>\n",
       "    .dataframe tbody tr th:only-of-type {\n",
       "        vertical-align: middle;\n",
       "    }\n",
       "\n",
       "    .dataframe tbody tr th {\n",
       "        vertical-align: top;\n",
       "    }\n",
       "\n",
       "    .dataframe thead th {\n",
       "        text-align: right;\n",
       "    }\n",
       "</style>\n",
       "<table border=\"1\" class=\"dataframe\">\n",
       "  <thead>\n",
       "    <tr style=\"text-align: right;\">\n",
       "      <th></th>\n",
       "      <th>count</th>\n",
       "      <th>mean</th>\n",
       "      <th>std</th>\n",
       "      <th>min</th>\n",
       "      <th>25%</th>\n",
       "      <th>50%</th>\n",
       "      <th>75%</th>\n",
       "      <th>max</th>\n",
       "    </tr>\n",
       "  </thead>\n",
       "  <tbody>\n",
       "    <tr>\n",
       "      <th>rating</th>\n",
       "      <td>2100.0</td>\n",
       "      <td>9.736071</td>\n",
       "      <td>0.559215</td>\n",
       "      <td>3.81</td>\n",
       "      <td>9.77</td>\n",
       "      <td>9.9</td>\n",
       "      <td>9.95</td>\n",
       "      <td>9.99</td>\n",
       "    </tr>\n",
       "  </tbody>\n",
       "</table>\n",
       "</div>"
      ],
      "text/plain": [
       "         count      mean       std   min   25%  50%   75%   max\n",
       "rating  2100.0  9.736071  0.559215  3.81  9.77  9.9  9.95  9.99"
      ]
     },
     "execution_count": 6,
     "metadata": {},
     "output_type": "execute_result"
    }
   ],
   "source": [
    "naver[['rating']].describe().T"
   ]
  },
  {
   "cell_type": "code",
   "execution_count": 7,
   "id": "92bd5fd5-6b4c-4853-b0b1-bb672699adb6",
   "metadata": {},
   "outputs": [
    {
     "data": {
      "text/plain": [
       "id               0\n",
       "title            0\n",
       "author           0\n",
       "genre            0\n",
       "description      0\n",
       "rating           0\n",
       "date             0\n",
       "completed        0\n",
       "age            102\n",
       "free             0\n",
       "link             0\n",
       "dtype: int64"
      ]
     },
     "execution_count": 7,
     "metadata": {},
     "output_type": "execute_result"
    }
   ],
   "source": [
    "naver.isna().sum()"
   ]
  },
  {
   "cell_type": "markdown",
   "id": "397058ce-f4e2-4c39-8a5b-95e25d5893f2",
   "metadata": {},
   "source": [
    "**결측치 처리**\n",
    "\n",
    "연령제한이 독립변수로 작용을 하는 가설3에서는 결측치가 있는 행을 제거시키자.\n",
    "\n",
    "임의로 다른 값으로 채울 수 없다고 판단됨."
   ]
  },
  {
   "cell_type": "code",
   "execution_count": 8,
   "id": "1306a4b5-ca11-4ed5-b5df-c2053dd21164",
   "metadata": {},
   "outputs": [
    {
     "data": {
      "text/html": [
       "<div>\n",
       "<style scoped>\n",
       "    .dataframe tbody tr th:only-of-type {\n",
       "        vertical-align: middle;\n",
       "    }\n",
       "\n",
       "    .dataframe tbody tr th {\n",
       "        vertical-align: top;\n",
       "    }\n",
       "\n",
       "    .dataframe thead th {\n",
       "        text-align: right;\n",
       "    }\n",
       "</style>\n",
       "<table border=\"1\" class=\"dataframe\">\n",
       "  <thead>\n",
       "    <tr style=\"text-align: right;\">\n",
       "      <th></th>\n",
       "      <th>count</th>\n",
       "      <th>mean</th>\n",
       "      <th>std</th>\n",
       "      <th>min</th>\n",
       "      <th>25%</th>\n",
       "      <th>50%</th>\n",
       "      <th>75%</th>\n",
       "      <th>max</th>\n",
       "    </tr>\n",
       "  </thead>\n",
       "  <tbody>\n",
       "    <tr>\n",
       "      <th>rating</th>\n",
       "      <td>2100.0</td>\n",
       "      <td>9.736071</td>\n",
       "      <td>0.559215</td>\n",
       "      <td>3.81</td>\n",
       "      <td>9.77</td>\n",
       "      <td>9.9</td>\n",
       "      <td>9.95</td>\n",
       "      <td>9.99</td>\n",
       "    </tr>\n",
       "  </tbody>\n",
       "</table>\n",
       "</div>"
      ],
      "text/plain": [
       "         count      mean       std   min   25%  50%   75%   max\n",
       "rating  2100.0  9.736071  0.559215  3.81  9.77  9.9  9.95  9.99"
      ]
     },
     "metadata": {},
     "output_type": "display_data"
    },
    {
     "data": {
      "image/png": "[encoded data removed]",
      "text/plain": [
       "<Figure size 1500x700 with 1 Axes>"
      ]
     },
     "metadata": {},
     "output_type": "display_data"
    }
   ],
   "source": [
    "# rating 시각화\n",
    "display(naver[['rating']].describe().T)\n",
    "plt.figure(figsize=(15,7))\n",
    "sns.histplot(naver['rating'], kde=True)\n",
    "plt.axvline(naver['rating'].mean(), color='red')\n",
    "plt.text(np.mean(naver['rating'])-0.5, 300, f'mean : {round(np.mean(naver['rating']),3)}', color = 'r')\n",
    "plt.show()"
   ]
  },
  {
   "cell_type": "markdown",
   "id": "57b7bcef-5564-4ccc-a8c1-265dea42d9f3",
   "metadata": {},
   "source": [
    "---\n",
    "## 가설1 : 연재 완료 여부(completed)가 웹툰의 평점(rating)에 영향을 줄 것이다.\n",
    "\n",
    "### 설명: 연재가 완료된 웹툰이 완료되지 않은 웹툰에 비해 더 높은 평점을 받을 것이다.\n",
    "=> **관련있다**"
   ]
  },
  {
   "cell_type": "code",
   "execution_count": 9,
   "id": "1e2390ac-3638-4b76-bd26-54deb1ef2361",
   "metadata": {},
   "outputs": [
    {
     "data": {
      "image/png": "[encoded data removed]",
      "text/plain": [
       "<Figure size 300x500 with 1 Axes>"
      ]
     },
     "metadata": {},
     "output_type": "display_data"
    }
   ],
   "source": [
    "plt.figure(figsize=(3,5))\n",
    "sns.scatterplot(x=naver['completed'].astype(str), y=naver['rating'])\n",
    "plt.show()"
   ]
  },
  {
   "cell_type": "code",
   "execution_count": 10,
   "id": "cb4bcd19-df66-414b-acc2-c87bde229295",
   "metadata": {},
   "outputs": [
    {
     "name": "stdout",
     "output_type": "stream",
     "text": [
      "completed\n",
      "True     1406\n",
      "False     694\n",
      "Name: count, dtype: int64\n",
      "completed\n",
      "True     0.669524\n",
      "False    0.330476\n",
      "Name: proportion, dtype: float64\n"
     ]
    }
   ],
   "source": [
    "# completed 값의 개수와 비율 확인\n",
    "print(naver['completed'].value_counts())\n",
    "print(naver['completed'].value_counts(normalize=True))"
   ]
  },
  {
   "cell_type": "code",
   "execution_count": 11,
   "id": "f15c3ecc-eacc-4b2d-bf97-1d553cf26582",
   "metadata": {},
   "outputs": [
    {
     "data": {
      "text/html": [
       "<div>\n",
       "<style scoped>\n",
       "    .dataframe tbody tr th:only-of-type {\n",
       "        vertical-align: middle;\n",
       "    }\n",
       "\n",
       "    .dataframe tbody tr th {\n",
       "        vertical-align: top;\n",
       "    }\n",
       "\n",
       "    .dataframe thead th {\n",
       "        text-align: right;\n",
       "    }\n",
       "</style>\n",
       "<table border=\"1\" class=\"dataframe\">\n",
       "  <thead>\n",
       "    <tr style=\"text-align: right;\">\n",
       "      <th></th>\n",
       "      <th>completed</th>\n",
       "      <th>rating</th>\n",
       "    </tr>\n",
       "  </thead>\n",
       "  <tbody>\n",
       "    <tr>\n",
       "      <th>0</th>\n",
       "      <td>False</td>\n",
       "      <td>9.791182</td>\n",
       "    </tr>\n",
       "    <tr>\n",
       "      <th>1</th>\n",
       "      <td>True</td>\n",
       "      <td>9.708869</td>\n",
       "    </tr>\n",
       "  </tbody>\n",
       "</table>\n",
       "</div>"
      ],
      "text/plain": [
       "   completed    rating\n",
       "0      False  9.791182\n",
       "1       True  9.708869"
      ]
     },
     "execution_count": 11,
     "metadata": {},
     "output_type": "execute_result"
    }
   ],
   "source": [
    "# completed별 rating의 평균 확인\n",
    "comp_grp = naver.groupby('completed', as_index=False)['rating'].mean()\n",
    "comp_grp"
   ]
  },
  {
   "cell_type": "code",
   "execution_count": 12,
   "id": "69d6fa91-ffd6-4de1-bba8-c0e8483f7513",
   "metadata": {},
   "outputs": [
    {
     "data": {
      "image/png": "[encoded data removed]",
      "text/plain": [
       "<Figure size 500x500 with 1 Axes>"
      ]
     },
     "metadata": {},
     "output_type": "display_data"
    }
   ],
   "source": [
    "plt.figure(figsize=(5,5))\n",
    "sns.barplot(x=comp_grp['completed'], y=comp_grp['rating'])\n",
    "plt.show()"
   ]
  },
  {
   "cell_type": "code",
   "execution_count": 13,
   "id": "b7692269-55c4-4efd-9c92-05f08b4993f8",
   "metadata": {},
   "outputs": [],
   "source": [
    "# 두 그룹으로 데이터 저장\n",
    "no_comp = naver.loc[naver['completed']==False, 'rating']\n",
    "comp = naver.loc[naver['completed']==True, 'rating']"
   ]
  },
  {
   "cell_type": "code",
   "execution_count": 14,
   "id": "4ab3e4c0-7fff-4ac8-ac2b-eb64aff8fdd0",
   "metadata": {},
   "outputs": [
    {
     "data": {
      "text/plain": [
       "TtestResult(statistic=3.179727704622156, pvalue=0.0014956384389568497, df=2098.0)"
      ]
     },
     "execution_count": 14,
     "metadata": {},
     "output_type": "execute_result"
    }
   ],
   "source": [
    "# t-test\n",
    "spst.ttest_ind(no_comp, comp)"
   ]
  },
  {
   "cell_type": "markdown",
   "id": "0e737f4f-472d-4670-a2a6-558e57f9cbe1",
   "metadata": {},
   "source": [
    "**t-test 결과, t통계량이 2보다큰 3.1이고 pvalue의 값이 0.05보다 작은 0.001이기 때문에 연재완료 여부별 평점이 차이가 있다.**"
   ]
  },
  {
   "cell_type": "markdown",
   "id": "c2612f04-86c2-45a9-be36-c4f6c89c4d92",
   "metadata": {},
   "source": [
    "---\n",
    "## 가설2: 장르(genre)가 평점(rating)에 영향을 줄 것이다.\n",
    "\n",
    "### 설명: 특정 장르(예: 로맨스, 드라마)가 다른 장르에 비해 평균적으로 더 높은 평점을 받을 것이다.\n",
    "=> **관련있다**"
   ]
  },
  {
   "cell_type": "code",
   "execution_count": 15,
   "id": "54c3679e-7301-425a-b286-54faa320ed03",
   "metadata": {},
   "outputs": [
    {
     "name": "stdout",
     "output_type": "stream",
     "text": [
      "genre\n",
      "스토리, 로맨스       522\n",
      "스토리, 드라마       373\n",
      "스토리, 판타지       341\n",
      "스토리, 스릴러       220\n",
      "스토리, 액션        168\n",
      "스토리, 개그         69\n",
      "에피소드, 일상        56\n",
      "에피소드, 개그        51\n",
      "스토리, 무협/사극      40\n",
      "에피소드, 드라마       36\n",
      "옴니버스, 스릴러       30\n",
      "옴니버스, 드라마       29\n",
      "에피소드, 로맨스       20\n",
      "스토리, 스포츠        20\n",
      "스토리, 감성         19\n",
      "옴니버스, 개그        18\n",
      "옴니버스, 일상        16\n",
      "옴니버스, 판타지       14\n",
      "에피소드, 감성        13\n",
      "에피소드, 스릴러        9\n",
      "에피소드, 액션         9\n",
      "스토리, 일상          8\n",
      "에피소드, 판타지        7\n",
      "옴니버스, 로맨스        5\n",
      "에피소드, 무협/사극      2\n",
      "에피소드, 스포츠        2\n",
      "옴니버스, 무협/사극      1\n",
      "옴니버스, 감성         1\n",
      "옴니버스, 스포츠        1\n",
      "Name: count, dtype: int64\n",
      "genre\n",
      "스토리, 로맨스       0.248571\n",
      "스토리, 드라마       0.177619\n",
      "스토리, 판타지       0.162381\n",
      "스토리, 스릴러       0.104762\n",
      "스토리, 액션        0.080000\n",
      "스토리, 개그        0.032857\n",
      "에피소드, 일상       0.026667\n",
      "에피소드, 개그       0.024286\n",
      "스토리, 무협/사극     0.019048\n",
      "에피소드, 드라마      0.017143\n",
      "옴니버스, 스릴러      0.014286\n",
      "옴니버스, 드라마      0.013810\n",
      "에피소드, 로맨스      0.009524\n",
      "스토리, 스포츠       0.009524\n",
      "스토리, 감성        0.009048\n",
      "옴니버스, 개그       0.008571\n",
      "옴니버스, 일상       0.007619\n",
      "옴니버스, 판타지      0.006667\n",
      "에피소드, 감성       0.006190\n",
      "에피소드, 스릴러      0.004286\n",
      "에피소드, 액션       0.004286\n",
      "스토리, 일상        0.003810\n",
      "에피소드, 판타지      0.003333\n",
      "옴니버스, 로맨스      0.002381\n",
      "에피소드, 무협/사극    0.000952\n",
      "에피소드, 스포츠      0.000952\n",
      "옴니버스, 무협/사극    0.000476\n",
      "옴니버스, 감성       0.000476\n",
      "옴니버스, 스포츠      0.000476\n",
      "Name: proportion, dtype: float64\n"
     ]
    }
   ],
   "source": [
    "# genre 값의 개수와 비율 확인\n",
    "print(naver['genre'].value_counts())\n",
    "print(naver['genre'].value_counts(normalize=True))"
   ]
  },
  {
   "cell_type": "code",
   "execution_count": 16,
   "id": "49679216-d724-46b7-8196-47e0fc94409d",
   "metadata": {},
   "outputs": [
    {
     "data": {
      "text/html": [
       "<div>\n",
       "<style scoped>\n",
       "    .dataframe tbody tr th:only-of-type {\n",
       "        vertical-align: middle;\n",
       "    }\n",
       "\n",
       "    .dataframe tbody tr th {\n",
       "        vertical-align: top;\n",
       "    }\n",
       "\n",
       "    .dataframe thead th {\n",
       "        text-align: right;\n",
       "    }\n",
       "</style>\n",
       "<table border=\"1\" class=\"dataframe\">\n",
       "  <thead>\n",
       "    <tr style=\"text-align: right;\">\n",
       "      <th></th>\n",
       "      <th>genre</th>\n",
       "      <th>rating</th>\n",
       "    </tr>\n",
       "  </thead>\n",
       "  <tbody>\n",
       "    <tr>\n",
       "      <th>0</th>\n",
       "      <td>스토리, 감성</td>\n",
       "      <td>9.892105</td>\n",
       "    </tr>\n",
       "    <tr>\n",
       "      <th>1</th>\n",
       "      <td>스토리, 개그</td>\n",
       "      <td>9.719565</td>\n",
       "    </tr>\n",
       "    <tr>\n",
       "      <th>2</th>\n",
       "      <td>스토리, 드라마</td>\n",
       "      <td>9.750214</td>\n",
       "    </tr>\n",
       "    <tr>\n",
       "      <th>3</th>\n",
       "      <td>스토리, 로맨스</td>\n",
       "      <td>9.814943</td>\n",
       "    </tr>\n",
       "    <tr>\n",
       "      <th>4</th>\n",
       "      <td>스토리, 무협/사극</td>\n",
       "      <td>9.886000</td>\n",
       "    </tr>\n",
       "    <tr>\n",
       "      <th>5</th>\n",
       "      <td>스토리, 스릴러</td>\n",
       "      <td>9.676864</td>\n",
       "    </tr>\n",
       "    <tr>\n",
       "      <th>6</th>\n",
       "      <td>스토리, 스포츠</td>\n",
       "      <td>9.632000</td>\n",
       "    </tr>\n",
       "    <tr>\n",
       "      <th>7</th>\n",
       "      <td>스토리, 액션</td>\n",
       "      <td>9.540952</td>\n",
       "    </tr>\n",
       "    <tr>\n",
       "      <th>8</th>\n",
       "      <td>스토리, 일상</td>\n",
       "      <td>9.741250</td>\n",
       "    </tr>\n",
       "    <tr>\n",
       "      <th>9</th>\n",
       "      <td>스토리, 판타지</td>\n",
       "      <td>9.726716</td>\n",
       "    </tr>\n",
       "    <tr>\n",
       "      <th>10</th>\n",
       "      <td>에피소드, 감성</td>\n",
       "      <td>9.923077</td>\n",
       "    </tr>\n",
       "    <tr>\n",
       "      <th>11</th>\n",
       "      <td>에피소드, 개그</td>\n",
       "      <td>9.570000</td>\n",
       "    </tr>\n",
       "    <tr>\n",
       "      <th>12</th>\n",
       "      <td>에피소드, 드라마</td>\n",
       "      <td>9.798611</td>\n",
       "    </tr>\n",
       "    <tr>\n",
       "      <th>13</th>\n",
       "      <td>에피소드, 로맨스</td>\n",
       "      <td>9.801500</td>\n",
       "    </tr>\n",
       "    <tr>\n",
       "      <th>14</th>\n",
       "      <td>에피소드, 무협/사극</td>\n",
       "      <td>9.910000</td>\n",
       "    </tr>\n",
       "    <tr>\n",
       "      <th>15</th>\n",
       "      <td>에피소드, 스릴러</td>\n",
       "      <td>9.851111</td>\n",
       "    </tr>\n",
       "    <tr>\n",
       "      <th>16</th>\n",
       "      <td>에피소드, 스포츠</td>\n",
       "      <td>8.925000</td>\n",
       "    </tr>\n",
       "    <tr>\n",
       "      <th>17</th>\n",
       "      <td>에피소드, 액션</td>\n",
       "      <td>9.723333</td>\n",
       "    </tr>\n",
       "    <tr>\n",
       "      <th>18</th>\n",
       "      <td>에피소드, 일상</td>\n",
       "      <td>9.606250</td>\n",
       "    </tr>\n",
       "    <tr>\n",
       "      <th>19</th>\n",
       "      <td>에피소드, 판타지</td>\n",
       "      <td>9.932857</td>\n",
       "    </tr>\n",
       "    <tr>\n",
       "      <th>20</th>\n",
       "      <td>옴니버스, 감성</td>\n",
       "      <td>9.930000</td>\n",
       "    </tr>\n",
       "    <tr>\n",
       "      <th>21</th>\n",
       "      <td>옴니버스, 개그</td>\n",
       "      <td>9.651667</td>\n",
       "    </tr>\n",
       "    <tr>\n",
       "      <th>22</th>\n",
       "      <td>옴니버스, 드라마</td>\n",
       "      <td>9.864483</td>\n",
       "    </tr>\n",
       "    <tr>\n",
       "      <th>23</th>\n",
       "      <td>옴니버스, 로맨스</td>\n",
       "      <td>9.846000</td>\n",
       "    </tr>\n",
       "    <tr>\n",
       "      <th>24</th>\n",
       "      <td>옴니버스, 무협/사극</td>\n",
       "      <td>9.890000</td>\n",
       "    </tr>\n",
       "    <tr>\n",
       "      <th>25</th>\n",
       "      <td>옴니버스, 스릴러</td>\n",
       "      <td>9.747667</td>\n",
       "    </tr>\n",
       "    <tr>\n",
       "      <th>26</th>\n",
       "      <td>옴니버스, 스포츠</td>\n",
       "      <td>9.270000</td>\n",
       "    </tr>\n",
       "    <tr>\n",
       "      <th>27</th>\n",
       "      <td>옴니버스, 일상</td>\n",
       "      <td>9.828750</td>\n",
       "    </tr>\n",
       "    <tr>\n",
       "      <th>28</th>\n",
       "      <td>옴니버스, 판타지</td>\n",
       "      <td>9.809286</td>\n",
       "    </tr>\n",
       "  </tbody>\n",
       "</table>\n",
       "</div>"
      ],
      "text/plain": [
       "          genre    rating\n",
       "0       스토리, 감성  9.892105\n",
       "1       스토리, 개그  9.719565\n",
       "2      스토리, 드라마  9.750214\n",
       "3      스토리, 로맨스  9.814943\n",
       "4    스토리, 무협/사극  9.886000\n",
       "5      스토리, 스릴러  9.676864\n",
       "6      스토리, 스포츠  9.632000\n",
       "7       스토리, 액션  9.540952\n",
       "8       스토리, 일상  9.741250\n",
       "9      스토리, 판타지  9.726716\n",
       "10     에피소드, 감성  9.923077\n",
       "11     에피소드, 개그  9.570000\n",
       "12    에피소드, 드라마  9.798611\n",
       "13    에피소드, 로맨스  9.801500\n",
       "14  에피소드, 무협/사극  9.910000\n",
       "15    에피소드, 스릴러  9.851111\n",
       "16    에피소드, 스포츠  8.925000\n",
       "17     에피소드, 액션  9.723333\n",
       "18     에피소드, 일상  9.606250\n",
       "19    에피소드, 판타지  9.932857\n",
       "20     옴니버스, 감성  9.930000\n",
       "21     옴니버스, 개그  9.651667\n",
       "22    옴니버스, 드라마  9.864483\n",
       "23    옴니버스, 로맨스  9.846000\n",
       "24  옴니버스, 무협/사극  9.890000\n",
       "25    옴니버스, 스릴러  9.747667\n",
       "26    옴니버스, 스포츠  9.270000\n",
       "27     옴니버스, 일상  9.828750\n",
       "28    옴니버스, 판타지  9.809286"
      ]
     },
     "execution_count": 16,
     "metadata": {},
     "output_type": "execute_result"
    }
   ],
   "source": [
    "# genre별 rating의 평균 확인\n",
    "genre_grp = naver.groupby('genre', as_index=False)['rating'].mean()\n",
    "genre_grp"
   ]
  },
  {
   "cell_type": "code",
   "execution_count": 17,
   "id": "d04a559a-24bf-48fc-9f2f-cb68d57b92ae",
   "metadata": {},
   "outputs": [
    {
     "data": {
      "image/png": "[encoded data removed]",
      "text/plain": [
       "<Figure size 1500x700 with 1 Axes>"
      ]
     },
     "metadata": {},
     "output_type": "display_data"
    }
   ],
   "source": [
    "# 장르별 평균 시각화\n",
    "plt.figure(figsize=(15, 7))\n",
    "sns.barplot(x=genre_grp['genre'], y='rating', data=genre_grp)\n",
    "plt.xticks(rotation=60)\n",
    "plt.show()"
   ]
  },
  {
   "cell_type": "code",
   "execution_count": 18,
   "id": "f478888e-a00a-419e-aab0-480a56a2f846",
   "metadata": {},
   "outputs": [
    {
     "data": {
      "text/plain": [
       "F_onewayResult(statistic=2.0946666137371013, pvalue=0.000688478045637517)"
      ]
     },
     "execution_count": 18,
     "metadata": {},
     "output_type": "execute_result"
    }
   ],
   "source": [
    "# AVOVA(분산 분석)\n",
    "\n",
    "# 장르별 평점을 리스트로 나누기\n",
    "genre_groups = naver.groupby('genre')['rating'].apply(list)\n",
    "\n",
    "anova_result = spst.f_oneway(*genre_groups)\n",
    "anova_result"
   ]
  },
  {
   "cell_type": "markdown",
   "id": "4996c717-87f5-4b30-83e1-98e821ef2f10",
   "metadata": {},
   "source": [
    "**분산 분석 결과, pvalue의 값이 0.05보다 작고 f통계량이 2보다 약간 크기 때문에 장르별 평점이 약간 차이가 있지만 크지 않다.**"
   ]
  },
  {
   "cell_type": "markdown",
   "id": "714787c3-a61d-455d-9006-e0bf601d4098",
   "metadata": {},
   "source": [
    "---\n",
    "## 가설3: 연령 제한(age)이 기다리면 무료 여부(free)에 영향을 줄 것이다.\n",
    "\n",
    "### 설명: 낮은 연령층을 타겟으로 한 웹툰일수록 기다리면 무료 이벤트가 적용될 확률이 높을 것이다.\n",
    "=> **관련있다**"
   ]
  },
  {
   "cell_type": "code",
   "execution_count": 19,
   "id": "b2607aa2-dabf-4c11-a906-eb63da5cbd15",
   "metadata": {},
   "outputs": [],
   "source": [
    "naver_copy = naver.copy()"
   ]
  },
  {
   "cell_type": "markdown",
   "id": "8f237ad6-9d81-4f57-a60a-eb4115514234",
   "metadata": {},
   "source": [
    "독립변수가 연령제한의 값을 임의로 채워 넣을 수 없고 데이터의 개수도 충분하니 결측치 값을 모두 제거함"
   ]
  },
  {
   "cell_type": "code",
   "execution_count": 20,
   "id": "39b03983-fee2-4d7a-b2f9-75e286ba1077",
   "metadata": {},
   "outputs": [
    {
     "data": {
      "text/plain": [
       "id             0\n",
       "title          0\n",
       "author         0\n",
       "genre          0\n",
       "description    0\n",
       "rating         0\n",
       "date           0\n",
       "completed      0\n",
       "age            0\n",
       "free           0\n",
       "link           0\n",
       "dtype: int64"
      ]
     },
     "execution_count": 20,
     "metadata": {},
     "output_type": "execute_result"
    }
   ],
   "source": [
    "naver_copy = naver_copy.dropna()\n",
    "naver_copy.isna().sum()"
   ]
  },
  {
   "cell_type": "code",
   "execution_count": 21,
   "id": "8e29f50c-6012-464f-ac8d-174428716454",
   "metadata": {},
   "outputs": [
    {
     "data": {
      "text/plain": [
       "age\n",
       "전체연령가      868\n",
       "15세 이용가    578\n",
       "12세 이용가    486\n",
       "18세 이용가     66\n",
       "Name: count, dtype: int64"
      ]
     },
     "execution_count": 21,
     "metadata": {},
     "output_type": "execute_result"
    }
   ],
   "source": [
    "naver_copy['age'].value_counts()"
   ]
  },
  {
   "cell_type": "code",
   "execution_count": 22,
   "id": "98d9d794-876f-4301-b7b2-a7bf22e4fbab",
   "metadata": {},
   "outputs": [
    {
     "data": {
      "text/html": [
       "<div>\n",
       "<style scoped>\n",
       "    .dataframe tbody tr th:only-of-type {\n",
       "        vertical-align: middle;\n",
       "    }\n",
       "\n",
       "    .dataframe tbody tr th {\n",
       "        vertical-align: top;\n",
       "    }\n",
       "\n",
       "    .dataframe thead th {\n",
       "        text-align: right;\n",
       "    }\n",
       "</style>\n",
       "<table border=\"1\" class=\"dataframe\">\n",
       "  <thead>\n",
       "    <tr style=\"text-align: right;\">\n",
       "      <th>free</th>\n",
       "      <th>False</th>\n",
       "      <th>True</th>\n",
       "    </tr>\n",
       "    <tr>\n",
       "      <th>age</th>\n",
       "      <th></th>\n",
       "      <th></th>\n",
       "    </tr>\n",
       "  </thead>\n",
       "  <tbody>\n",
       "    <tr>\n",
       "      <th>12세 이용가</th>\n",
       "      <td>0.147147</td>\n",
       "      <td>0.096096</td>\n",
       "    </tr>\n",
       "    <tr>\n",
       "      <th>15세 이용가</th>\n",
       "      <td>0.169670</td>\n",
       "      <td>0.119620</td>\n",
       "    </tr>\n",
       "    <tr>\n",
       "      <th>18세 이용가</th>\n",
       "      <td>0.013013</td>\n",
       "      <td>0.020020</td>\n",
       "    </tr>\n",
       "    <tr>\n",
       "      <th>전체연령가</th>\n",
       "      <td>0.233233</td>\n",
       "      <td>0.201201</td>\n",
       "    </tr>\n",
       "  </tbody>\n",
       "</table>\n",
       "</div>"
      ],
      "text/plain": [
       "free        False     True \n",
       "age                        \n",
       "12세 이용가  0.147147  0.096096\n",
       "15세 이용가  0.169670  0.119620\n",
       "18세 이용가  0.013013  0.020020\n",
       "전체연령가    0.233233  0.201201"
      ]
     },
     "execution_count": 22,
     "metadata": {},
     "output_type": "execute_result"
    }
   ],
   "source": [
    "pd.crosstab(naver_copy['age'], naver_copy['free'], normalize = 'all')"
   ]
  },
  {
   "cell_type": "code",
   "execution_count": 23,
   "id": "6ffe6670-8eff-45e4-af96-eee50c1b94f6",
   "metadata": {},
   "outputs": [
    {
     "data": {
      "image/png": "[encoded data removed]",
      "text/plain": [
       "<Figure size 640x480 with 3 Axes>"
      ]
     },
     "metadata": {},
     "output_type": "display_data"
    }
   ],
   "source": [
    "# age별 free여부를 mosaicplot으로 시각화\n",
    "mosaic(naver_copy, ['age','free'])\n",
    "plt.axhline(naver_copy['free'].mean(), color = 'r')\n",
    "plt.show()"
   ]
  },
  {
   "cell_type": "code",
   "execution_count": 24,
   "id": "0458e536-5291-426c-ad21-f4fbe6e04aa7",
   "metadata": {},
   "outputs": [
    {
     "data": {
      "text/html": [
       "<div>\n",
       "<style scoped>\n",
       "    .dataframe tbody tr th:only-of-type {\n",
       "        vertical-align: middle;\n",
       "    }\n",
       "\n",
       "    .dataframe tbody tr th {\n",
       "        vertical-align: top;\n",
       "    }\n",
       "\n",
       "    .dataframe thead th {\n",
       "        text-align: right;\n",
       "    }\n",
       "</style>\n",
       "<table border=\"1\" class=\"dataframe\">\n",
       "  <thead>\n",
       "    <tr style=\"text-align: right;\">\n",
       "      <th>free</th>\n",
       "      <th>False</th>\n",
       "      <th>True</th>\n",
       "    </tr>\n",
       "    <tr>\n",
       "      <th>age</th>\n",
       "      <th></th>\n",
       "      <th></th>\n",
       "    </tr>\n",
       "  </thead>\n",
       "  <tbody>\n",
       "    <tr>\n",
       "      <th>12세 이용가</th>\n",
       "      <td>0.604938</td>\n",
       "      <td>0.395062</td>\n",
       "    </tr>\n",
       "    <tr>\n",
       "      <th>15세 이용가</th>\n",
       "      <td>0.586505</td>\n",
       "      <td>0.413495</td>\n",
       "    </tr>\n",
       "    <tr>\n",
       "      <th>18세 이용가</th>\n",
       "      <td>0.393939</td>\n",
       "      <td>0.606061</td>\n",
       "    </tr>\n",
       "    <tr>\n",
       "      <th>전체연령가</th>\n",
       "      <td>0.536866</td>\n",
       "      <td>0.463134</td>\n",
       "    </tr>\n",
       "  </tbody>\n",
       "</table>\n",
       "</div>"
      ],
      "text/plain": [
       "free        False     True \n",
       "age                        \n",
       "12세 이용가  0.604938  0.395062\n",
       "15세 이용가  0.586505  0.413495\n",
       "18세 이용가  0.393939  0.606061\n",
       "전체연령가    0.536866  0.463134"
      ]
     },
     "metadata": {},
     "output_type": "display_data"
    },
    {
     "data": {
      "image/png": "[encoded data removed]",
      "text/plain": [
       "<Figure size 640x480 with 1 Axes>"
      ]
     },
     "metadata": {},
     "output_type": "display_data"
    }
   ],
   "source": [
    "temp = pd.crosstab(naver_copy['age'], naver_copy['free'], normalize = 'index')\n",
    "display(temp)\n",
    "temp.plot.bar(stacked=True)\n",
    "plt.axhline(1-naver_copy['free'].mean(), color = 'r')\n",
    "plt.xticks(rotation=60)\n",
    "plt.show()"
   ]
  },
  {
   "cell_type": "code",
   "execution_count": 54,
   "id": "7a4220d6-94e4-45c8-bd92-8cb0642713f2",
   "metadata": {},
   "outputs": [
    {
     "data": {
      "text/plain": [
       "Chi2ContingencyResult(statistic=0.10987833639908651, pvalue=0.9906261916781095, dof=3, expected_freq=array([[0.5305623, 0.4694377],\n",
       "       [0.5305623, 0.4694377],\n",
       "       [0.5305623, 0.4694377],\n",
       "       [0.5305623, 0.4694377]]))"
      ]
     },
     "execution_count": 54,
     "metadata": {},
     "output_type": "execute_result"
    }
   ],
   "source": [
    "age_free = pd.crosstab(naver_copy['age'], naver_copy['free'], normalize='index')\n",
    "spst.chi2_contingency(age_free)"
   ]
  },
  {
   "cell_type": "markdown",
   "id": "9c1b40b3-9106-4047-bdbf-02060b6b8c62",
   "metadata": {},
   "source": [
    "**카이제곱 검정량이 자유도의 두배보다 약간 크고 p-value의 값도 0.05보다 작기 때문에 연령제한별 무료 여부에 차이가 있지만 크지 않다고 판단된다.**"
   ]
  },
  {
   "cell_type": "markdown",
   "id": "e9b4a8cd-827a-4a86-9d23-c1ccb2f26f77",
   "metadata": {},
   "source": [
    "---\n",
    "## naver_challenge 데이터셋 정보 확인"
   ]
  },
  {
   "cell_type": "code",
   "execution_count": 26,
   "id": "fc19fc8f-4d10-40c3-ae08-b6a42bda2c71",
   "metadata": {},
   "outputs": [],
   "source": [
    "challenge = pd.read_csv('./naver_challenge.csv')"
   ]
  },
  {
   "cell_type": "code",
   "execution_count": 27,
   "id": "227887e1-e2a3-4126-a92e-68f3a7d40970",
   "metadata": {},
   "outputs": [
    {
     "data": {
      "text/html": [
       "<div>\n",
       "<style scoped>\n",
       "    .dataframe tbody tr th:only-of-type {\n",
       "        vertical-align: middle;\n",
       "    }\n",
       "\n",
       "    .dataframe tbody tr th {\n",
       "        vertical-align: top;\n",
       "    }\n",
       "\n",
       "    .dataframe thead th {\n",
       "        text-align: right;\n",
       "    }\n",
       "</style>\n",
       "<table border=\"1\" class=\"dataframe\">\n",
       "  <thead>\n",
       "    <tr style=\"text-align: right;\">\n",
       "      <th></th>\n",
       "      <th>id</th>\n",
       "      <th>title</th>\n",
       "      <th>author</th>\n",
       "      <th>summary</th>\n",
       "      <th>rating</th>\n",
       "      <th>genre</th>\n",
       "      <th>format</th>\n",
       "      <th>description</th>\n",
       "      <th>serial</th>\n",
       "      <th>potenup</th>\n",
       "      <th>link</th>\n",
       "    </tr>\n",
       "  </thead>\n",
       "  <tbody>\n",
       "    <tr>\n",
       "      <th>0</th>\n",
       "      <td>779637</td>\n",
       "      <td>예수쟁이 다이어리</td>\n",
       "      <td>ahnc****</td>\n",
       "      <td>예수쟁이의 일상</td>\n",
       "      <td>9.30</td>\n",
       "      <td>daily</td>\n",
       "      <td>에피소드</td>\n",
       "      <td>기독교가 세상에서 제일 싫었던 사람, 어느날 예수쟁이가 되다!\\r\\n안티 크리스천에...</td>\n",
       "      <td>False</td>\n",
       "      <td>False</td>\n",
       "      <td>https://comic.naver.com/bestChallenge/list?tit...</td>\n",
       "    </tr>\n",
       "    <tr>\n",
       "      <th>1</th>\n",
       "      <td>748367</td>\n",
       "      <td>이래서 애들은</td>\n",
       "      <td>dksk****</td>\n",
       "      <td>다양한장르의 거짓말</td>\n",
       "      <td>9.89</td>\n",
       "      <td>daily, comic</td>\n",
       "      <td>옴니버스</td>\n",
       "      <td>하숙집 꼬마를 속이는 하숙생 이야기</td>\n",
       "      <td>False</td>\n",
       "      <td>False</td>\n",
       "      <td>https://comic.naver.com/bestChallenge/list?tit...</td>\n",
       "    </tr>\n",
       "    <tr>\n",
       "      <th>2</th>\n",
       "      <td>748498</td>\n",
       "      <td>나의 섭식장애 일기</td>\n",
       "      <td>vldk****</td>\n",
       "      <td>섭식장애이야기</td>\n",
       "      <td>9.85</td>\n",
       "      <td>daily</td>\n",
       "      <td>에피소드</td>\n",
       "      <td>섭식장애를 겪었던 나의 이야기</td>\n",
       "      <td>False</td>\n",
       "      <td>False</td>\n",
       "      <td>https://comic.naver.com/bestChallenge/list?tit...</td>\n",
       "    </tr>\n",
       "    <tr>\n",
       "      <th>3</th>\n",
       "      <td>683018</td>\n",
       "      <td>오늘의 후기</td>\n",
       "      <td>chae****</td>\n",
       "      <td>매일 살아가는 후기</td>\n",
       "      <td>9.77</td>\n",
       "      <td>daily, comic</td>\n",
       "      <td>에피소드</td>\n",
       "      <td>여러분은 오늘 무슨 일이 있었나요? 매일을 살아가는 김챈의 그림일기, 오늘의 후기!...</td>\n",
       "      <td>False</td>\n",
       "      <td>False</td>\n",
       "      <td>https://comic.naver.com/bestChallenge/list?tit...</td>\n",
       "    </tr>\n",
       "    <tr>\n",
       "      <th>4</th>\n",
       "      <td>756652</td>\n",
       "      <td>제제와 함께</td>\n",
       "      <td>ls****</td>\n",
       "      <td>장애아이와 형제</td>\n",
       "      <td>9.73</td>\n",
       "      <td>daily, drama</td>\n",
       "      <td>에피소드</td>\n",
       "      <td>출산도 육아도 처음인 초보맘에게 너무나 소중한 첫째 아들이 태어났고..둘째 딸의 출...</td>\n",
       "      <td>False</td>\n",
       "      <td>False</td>\n",
       "      <td>https://comic.naver.com/bestChallenge/list?tit...</td>\n",
       "    </tr>\n",
       "  </tbody>\n",
       "</table>\n",
       "</div>"
      ],
      "text/plain": [
       "       id       title    author     summary  rating         genre format  \\\n",
       "0  779637   예수쟁이 다이어리  ahnc****    예수쟁이의 일상    9.30         daily   에피소드   \n",
       "1  748367     이래서 애들은  dksk****  다양한장르의 거짓말    9.89  daily, comic   옴니버스   \n",
       "2  748498  나의 섭식장애 일기  vldk****     섭식장애이야기    9.85         daily   에피소드   \n",
       "3  683018      오늘의 후기  chae****  매일 살아가는 후기    9.77  daily, comic   에피소드   \n",
       "4  756652      제제와 함께    ls****    장애아이와 형제    9.73  daily, drama   에피소드   \n",
       "\n",
       "                                         description  serial  potenup  \\\n",
       "0  기독교가 세상에서 제일 싫었던 사람, 어느날 예수쟁이가 되다!\\r\\n안티 크리스천에...   False    False   \n",
       "1                                하숙집 꼬마를 속이는 하숙생 이야기   False    False   \n",
       "2                                   섭식장애를 겪었던 나의 이야기   False    False   \n",
       "3  여러분은 오늘 무슨 일이 있었나요? 매일을 살아가는 김챈의 그림일기, 오늘의 후기!...   False    False   \n",
       "4  출산도 육아도 처음인 초보맘에게 너무나 소중한 첫째 아들이 태어났고..둘째 딸의 출...   False    False   \n",
       "\n",
       "                                                link  \n",
       "0  https://comic.naver.com/bestChallenge/list?tit...  \n",
       "1  https://comic.naver.com/bestChallenge/list?tit...  \n",
       "2  https://comic.naver.com/bestChallenge/list?tit...  \n",
       "3  https://comic.naver.com/bestChallenge/list?tit...  \n",
       "4  https://comic.naver.com/bestChallenge/list?tit...  "
      ]
     },
     "execution_count": 27,
     "metadata": {},
     "output_type": "execute_result"
    }
   ],
   "source": [
    "challenge.head()"
   ]
  },
  {
   "cell_type": "code",
   "execution_count": 28,
   "id": "472866ba-11ba-4580-9322-a3726ea73bf3",
   "metadata": {},
   "outputs": [
    {
     "name": "stdout",
     "output_type": "stream",
     "text": [
      "<class 'pandas.core.frame.DataFrame'>\n",
      "RangeIndex: 3192 entries, 0 to 3191\n",
      "Data columns (total 11 columns):\n",
      " #   Column       Non-Null Count  Dtype  \n",
      "---  ------       --------------  -----  \n",
      " 0   id           3192 non-null   int64  \n",
      " 1   title        3192 non-null   object \n",
      " 2   author       3192 non-null   object \n",
      " 3   summary      3191 non-null   object \n",
      " 4   rating       3192 non-null   float64\n",
      " 5   genre        3192 non-null   object \n",
      " 6   format       3192 non-null   object \n",
      " 7   description  3192 non-null   object \n",
      " 8   serial       3192 non-null   bool   \n",
      " 9   potenup      3192 non-null   bool   \n",
      " 10  link         3192 non-null   object \n",
      "dtypes: bool(2), float64(1), int64(1), object(7)\n",
      "memory usage: 230.8+ KB\n"
     ]
    }
   ],
   "source": [
    "challenge.info()"
   ]
  },
  {
   "cell_type": "code",
   "execution_count": 29,
   "id": "0590e4d2-fe0c-455f-b8b6-26bd286d41d1",
   "metadata": {},
   "outputs": [
    {
     "data": {
      "text/html": [
       "<div>\n",
       "<style scoped>\n",
       "    .dataframe tbody tr th:only-of-type {\n",
       "        vertical-align: middle;\n",
       "    }\n",
       "\n",
       "    .dataframe tbody tr th {\n",
       "        vertical-align: top;\n",
       "    }\n",
       "\n",
       "    .dataframe thead th {\n",
       "        text-align: right;\n",
       "    }\n",
       "</style>\n",
       "<table border=\"1\" class=\"dataframe\">\n",
       "  <thead>\n",
       "    <tr style=\"text-align: right;\">\n",
       "      <th></th>\n",
       "      <th>count</th>\n",
       "      <th>mean</th>\n",
       "      <th>std</th>\n",
       "      <th>min</th>\n",
       "      <th>25%</th>\n",
       "      <th>50%</th>\n",
       "      <th>75%</th>\n",
       "      <th>max</th>\n",
       "    </tr>\n",
       "  </thead>\n",
       "  <tbody>\n",
       "    <tr>\n",
       "      <th>rating</th>\n",
       "      <td>3192.0</td>\n",
       "      <td>9.639395</td>\n",
       "      <td>0.387941</td>\n",
       "      <td>5.38</td>\n",
       "      <td>9.59</td>\n",
       "      <td>9.78</td>\n",
       "      <td>9.86</td>\n",
       "      <td>9.92</td>\n",
       "    </tr>\n",
       "  </tbody>\n",
       "</table>\n",
       "</div>"
      ],
      "text/plain": [
       "         count      mean       std   min   25%   50%   75%   max\n",
       "rating  3192.0  9.639395  0.387941  5.38  9.59  9.78  9.86  9.92"
      ]
     },
     "execution_count": 29,
     "metadata": {},
     "output_type": "execute_result"
    }
   ],
   "source": [
    "challenge[['rating']].describe().T"
   ]
  },
  {
   "cell_type": "code",
   "execution_count": 30,
   "id": "37b35919-f32b-4c94-aecb-716ba565feba",
   "metadata": {},
   "outputs": [
    {
     "data": {
      "text/plain": [
       "id             0\n",
       "title          0\n",
       "author         0\n",
       "summary        1\n",
       "rating         0\n",
       "genre          0\n",
       "format         0\n",
       "description    0\n",
       "serial         0\n",
       "potenup        0\n",
       "link           0\n",
       "dtype: int64"
      ]
     },
     "execution_count": 30,
     "metadata": {},
     "output_type": "execute_result"
    }
   ],
   "source": [
    "challenge.isna().sum()"
   ]
  },
  {
   "cell_type": "markdown",
   "id": "bb02e8e9-c278-4498-9f48-54e337bb661c",
   "metadata": {},
   "source": [
    "summary라서 결측치 처리 안함"
   ]
  },
  {
   "cell_type": "code",
   "execution_count": 31,
   "id": "1906b58e-900a-4045-9342-a54f4105b8fc",
   "metadata": {},
   "outputs": [
    {
     "data": {
      "text/html": [
       "<div>\n",
       "<style scoped>\n",
       "    .dataframe tbody tr th:only-of-type {\n",
       "        vertical-align: middle;\n",
       "    }\n",
       "\n",
       "    .dataframe tbody tr th {\n",
       "        vertical-align: top;\n",
       "    }\n",
       "\n",
       "    .dataframe thead th {\n",
       "        text-align: right;\n",
       "    }\n",
       "</style>\n",
       "<table border=\"1\" class=\"dataframe\">\n",
       "  <thead>\n",
       "    <tr style=\"text-align: right;\">\n",
       "      <th></th>\n",
       "      <th>count</th>\n",
       "      <th>mean</th>\n",
       "      <th>std</th>\n",
       "      <th>min</th>\n",
       "      <th>25%</th>\n",
       "      <th>50%</th>\n",
       "      <th>75%</th>\n",
       "      <th>max</th>\n",
       "    </tr>\n",
       "  </thead>\n",
       "  <tbody>\n",
       "    <tr>\n",
       "      <th>rating</th>\n",
       "      <td>3192.0</td>\n",
       "      <td>9.639395</td>\n",
       "      <td>0.387941</td>\n",
       "      <td>5.38</td>\n",
       "      <td>9.59</td>\n",
       "      <td>9.78</td>\n",
       "      <td>9.86</td>\n",
       "      <td>9.92</td>\n",
       "    </tr>\n",
       "  </tbody>\n",
       "</table>\n",
       "</div>"
      ],
      "text/plain": [
       "         count      mean       std   min   25%   50%   75%   max\n",
       "rating  3192.0  9.639395  0.387941  5.38  9.59  9.78  9.86  9.92"
      ]
     },
     "metadata": {},
     "output_type": "display_data"
    },
    {
     "data": {
      "image/png": "[encoded data removed]",
      "text/plain": [
       "<Figure size 1500x700 with 1 Axes>"
      ]
     },
     "metadata": {},
     "output_type": "display_data"
    }
   ],
   "source": [
    "# raing 분포 시각화\n",
    "display(challenge[['rating']].describe().T)\n",
    "plt.figure(figsize=(15,7))\n",
    "sns.histplot(challenge['rating'], kde=True)\n",
    "plt.axvline(challenge['rating'].mean(), color='red')\n",
    "plt.text(np.mean(challenge['rating'])-0.5, 300, f'mean : {round(np.mean(challenge['rating']),3)}', color = 'r')\n",
    "plt.show()"
   ]
  },
  {
   "cell_type": "code",
   "execution_count": 32,
   "id": "d63fb0a1-6cb5-4b92-b2f1-42b44bec190b",
   "metadata": {},
   "outputs": [
    {
     "data": {
      "text/plain": [
       "serial\n",
       "False    2990\n",
       "True      202\n",
       "Name: count, dtype: int64"
      ]
     },
     "execution_count": 32,
     "metadata": {},
     "output_type": "execute_result"
    }
   ],
   "source": [
    "challenge['serial'].value_counts()"
   ]
  },
  {
   "cell_type": "markdown",
   "id": "dc7da999-1e3a-4149-a089-1598de73d3a6",
   "metadata": {},
   "source": [
    "---\n",
    "## 가설1: 포텐업 선정 여부(potenup)가 평점(rating)에 영향을 줄 것이다.\n",
    "\n",
    "### 설명: 포텐업에 선정된 웹툰이 선정되지 않은 웹툰에 비해 더 높은 평점을 받을 것이다.\n",
    "=> 관련 없음"
   ]
  },
  {
   "cell_type": "markdown",
   "id": "9ce34d7a-6f64-42dc-9849-4c531c7cf6f5",
   "metadata": {},
   "source": [
    "potenup 값의 비율차이가 너무 커서 상관관계 예측이 어려움"
   ]
  },
  {
   "cell_type": "code",
   "execution_count": 33,
   "id": "9a79d3cc-d248-4306-90d1-f1da48d88aff",
   "metadata": {},
   "outputs": [
    {
     "data": {
      "text/plain": [
       "potenup\n",
       "False    3190\n",
       "True        2\n",
       "Name: count, dtype: int64"
      ]
     },
     "execution_count": 33,
     "metadata": {},
     "output_type": "execute_result"
    }
   ],
   "source": [
    "challenge['potenup'].value_counts()"
   ]
  },
  {
   "cell_type": "code",
   "execution_count": 34,
   "id": "1c7d3cc0-7d53-4fe6-9531-92223c0929d8",
   "metadata": {},
   "outputs": [
    {
     "data": {
      "image/png": "[encoded data removed]",
      "text/plain": [
       "<Figure size 640x480 with 1 Axes>"
      ]
     },
     "metadata": {},
     "output_type": "display_data"
    }
   ],
   "source": [
    "sns.kdeplot(x='rating', data=challenge, hue='potenup', multiple='fill')\n",
    "plt.show()"
   ]
  },
  {
   "cell_type": "code",
   "execution_count": 35,
   "id": "0d8b6fd8-45b0-48fb-ba96-a12867627012",
   "metadata": {},
   "outputs": [
    {
     "data": {
      "text/plain": [
       "TtestResult(statistic=1.0006045814692723, pvalue=0.3170939070616405, df=3190.0)"
      ]
     },
     "execution_count": 35,
     "metadata": {},
     "output_type": "execute_result"
    }
   ],
   "source": [
    "# 두 그룹으로 데이터 저장\n",
    "no_poten = challenge.loc[challenge['potenup']==False, 'rating']\n",
    "poten = challenge.loc[challenge['potenup']==True, 'rating']\n",
    "\n",
    "# t-test\n",
    "spst.ttest_ind(no_poten, poten)"
   ]
  },
  {
   "cell_type": "markdown",
   "id": "ffd0c0cb-dd8a-40a6-980b-930798ab7740",
   "metadata": {},
   "source": [
    "**t-test결과, t통계량이 2보다 작은 1이고 p-value의 값도 0.05보다 큰 0.31이라 관련이 없다고 판단됨**"
   ]
  },
  {
   "cell_type": "markdown",
   "id": "af292975-1074-4658-9def-c4ff1e87da2d",
   "metadata": {},
   "source": [
    "---\n",
    "## 가설2: 장르(genre)가 정식 연재 여부(serial)에 영향을 줄 것이다.\n",
    "\n",
    "### 설명: 특정 장르(예: 판타지, 드라마)가 다른 장르보다 정식 연재될 확률이 높을 것이다.\n",
    "=> 관련있음"
   ]
  },
  {
   "cell_type": "code",
   "execution_count": 36,
   "id": "f2868a0e-fd40-482b-ab58-8ea68f59e14f",
   "metadata": {},
   "outputs": [
    {
     "data": {
      "text/plain": [
       "genre\n",
       "daily, comic               326\n",
       "fantasy, action            271\n",
       "daily                      257\n",
       "drama, pure                223\n",
       "fantasy, drama             207\n",
       "fantasy, pure              174\n",
       "daily, sensibility         145\n",
       "comic, fantasy             125\n",
       "fantasy                    119\n",
       "drama, sensibility         105\n",
       "daily, drama               105\n",
       "drama, thrill               88\n",
       "comic, pure                 73\n",
       "daily, fantasy              72\n",
       "pure, sensibility           66\n",
       "fantasy, thrill             65\n",
       "drama                       58\n",
       "comic, drama                53\n",
       "daily, pure                 51\n",
       "thrill                      51\n",
       "pure                        48\n",
       "comic                       48\n",
       "fantasy, historical         42\n",
       "fantasy, sensibility        42\n",
       "action, thrill              40\n",
       "action, drama               37\n",
       "drama, sports               34\n",
       "comic, sensibility          27\n",
       "sensibility                 26\n",
       "drama, historical           24\n",
       "action                      24\n",
       "comic, action               22\n",
       "pure, thrill                21\n",
       "pure, historical            15\n",
       "daily, thrill               12\n",
       "comic, thrill               12\n",
       "sports                      10\n",
       "action, historical           9\n",
       "action, sports               9\n",
       "daily, sports                8\n",
       "daily, action                6\n",
       "comic, historical            6\n",
       "historical                   6\n",
       "comic, sports                6\n",
       "action, pure                 5\n",
       "sensibility, thrill          5\n",
       "action, sensibility          3\n",
       "daily, historical            3\n",
       "thrill, historical           3\n",
       "sensibility, historical      2\n",
       "historical, sports           2\n",
       "pure, sports                 1\n",
       "Name: count, dtype: int64"
      ]
     },
     "execution_count": 36,
     "metadata": {},
     "output_type": "execute_result"
    }
   ],
   "source": [
    "challenge['genre'].value_counts()"
   ]
  },
  {
   "cell_type": "code",
   "execution_count": 37,
   "id": "6b37e3c2-d59a-4b65-9b20-b487471d80b9",
   "metadata": {},
   "outputs": [
    {
     "data": {
      "text/html": [
       "<div>\n",
       "<style scoped>\n",
       "    .dataframe tbody tr th:only-of-type {\n",
       "        vertical-align: middle;\n",
       "    }\n",
       "\n",
       "    .dataframe tbody tr th {\n",
       "        vertical-align: top;\n",
       "    }\n",
       "\n",
       "    .dataframe thead th {\n",
       "        text-align: right;\n",
       "    }\n",
       "</style>\n",
       "<table border=\"1\" class=\"dataframe\">\n",
       "  <thead>\n",
       "    <tr style=\"text-align: right;\">\n",
       "      <th></th>\n",
       "      <th>genre</th>\n",
       "      <th>rating</th>\n",
       "    </tr>\n",
       "  </thead>\n",
       "  <tbody>\n",
       "    <tr>\n",
       "      <th>0</th>\n",
       "      <td>action</td>\n",
       "      <td>9.445000</td>\n",
       "    </tr>\n",
       "    <tr>\n",
       "      <th>1</th>\n",
       "      <td>action, drama</td>\n",
       "      <td>9.582432</td>\n",
       "    </tr>\n",
       "    <tr>\n",
       "      <th>2</th>\n",
       "      <td>action, historical</td>\n",
       "      <td>9.537778</td>\n",
       "    </tr>\n",
       "    <tr>\n",
       "      <th>3</th>\n",
       "      <td>action, pure</td>\n",
       "      <td>9.668000</td>\n",
       "    </tr>\n",
       "    <tr>\n",
       "      <th>4</th>\n",
       "      <td>action, sensibility</td>\n",
       "      <td>9.833333</td>\n",
       "    </tr>\n",
       "    <tr>\n",
       "      <th>5</th>\n",
       "      <td>action, sports</td>\n",
       "      <td>9.354444</td>\n",
       "    </tr>\n",
       "    <tr>\n",
       "      <th>6</th>\n",
       "      <td>action, thrill</td>\n",
       "      <td>9.504250</td>\n",
       "    </tr>\n",
       "    <tr>\n",
       "      <th>7</th>\n",
       "      <td>comic</td>\n",
       "      <td>9.587083</td>\n",
       "    </tr>\n",
       "    <tr>\n",
       "      <th>8</th>\n",
       "      <td>comic, action</td>\n",
       "      <td>9.516364</td>\n",
       "    </tr>\n",
       "    <tr>\n",
       "      <th>9</th>\n",
       "      <td>comic, drama</td>\n",
       "      <td>9.518491</td>\n",
       "    </tr>\n",
       "    <tr>\n",
       "      <th>10</th>\n",
       "      <td>comic, fantasy</td>\n",
       "      <td>9.664560</td>\n",
       "    </tr>\n",
       "    <tr>\n",
       "      <th>11</th>\n",
       "      <td>comic, historical</td>\n",
       "      <td>9.783333</td>\n",
       "    </tr>\n",
       "    <tr>\n",
       "      <th>12</th>\n",
       "      <td>comic, pure</td>\n",
       "      <td>9.703562</td>\n",
       "    </tr>\n",
       "    <tr>\n",
       "      <th>13</th>\n",
       "      <td>comic, sensibility</td>\n",
       "      <td>9.551852</td>\n",
       "    </tr>\n",
       "    <tr>\n",
       "      <th>14</th>\n",
       "      <td>comic, sports</td>\n",
       "      <td>9.096667</td>\n",
       "    </tr>\n",
       "    <tr>\n",
       "      <th>15</th>\n",
       "      <td>comic, thrill</td>\n",
       "      <td>9.632500</td>\n",
       "    </tr>\n",
       "    <tr>\n",
       "      <th>16</th>\n",
       "      <td>daily</td>\n",
       "      <td>9.679922</td>\n",
       "    </tr>\n",
       "    <tr>\n",
       "      <th>17</th>\n",
       "      <td>daily, action</td>\n",
       "      <td>9.728333</td>\n",
       "    </tr>\n",
       "    <tr>\n",
       "      <th>18</th>\n",
       "      <td>daily, comic</td>\n",
       "      <td>9.702791</td>\n",
       "    </tr>\n",
       "    <tr>\n",
       "      <th>19</th>\n",
       "      <td>daily, drama</td>\n",
       "      <td>9.537143</td>\n",
       "    </tr>\n",
       "    <tr>\n",
       "      <th>20</th>\n",
       "      <td>daily, fantasy</td>\n",
       "      <td>9.628194</td>\n",
       "    </tr>\n",
       "    <tr>\n",
       "      <th>21</th>\n",
       "      <td>daily, historical</td>\n",
       "      <td>9.846667</td>\n",
       "    </tr>\n",
       "    <tr>\n",
       "      <th>22</th>\n",
       "      <td>daily, pure</td>\n",
       "      <td>9.655294</td>\n",
       "    </tr>\n",
       "    <tr>\n",
       "      <th>23</th>\n",
       "      <td>daily, sensibility</td>\n",
       "      <td>9.736621</td>\n",
       "    </tr>\n",
       "    <tr>\n",
       "      <th>24</th>\n",
       "      <td>daily, sports</td>\n",
       "      <td>9.471250</td>\n",
       "    </tr>\n",
       "    <tr>\n",
       "      <th>25</th>\n",
       "      <td>daily, thrill</td>\n",
       "      <td>9.697500</td>\n",
       "    </tr>\n",
       "    <tr>\n",
       "      <th>26</th>\n",
       "      <td>drama</td>\n",
       "      <td>9.582241</td>\n",
       "    </tr>\n",
       "    <tr>\n",
       "      <th>27</th>\n",
       "      <td>drama, historical</td>\n",
       "      <td>9.618750</td>\n",
       "    </tr>\n",
       "    <tr>\n",
       "      <th>28</th>\n",
       "      <td>drama, pure</td>\n",
       "      <td>9.605650</td>\n",
       "    </tr>\n",
       "    <tr>\n",
       "      <th>29</th>\n",
       "      <td>drama, sensibility</td>\n",
       "      <td>9.612286</td>\n",
       "    </tr>\n",
       "    <tr>\n",
       "      <th>30</th>\n",
       "      <td>drama, sports</td>\n",
       "      <td>9.172353</td>\n",
       "    </tr>\n",
       "    <tr>\n",
       "      <th>31</th>\n",
       "      <td>drama, thrill</td>\n",
       "      <td>9.618977</td>\n",
       "    </tr>\n",
       "    <tr>\n",
       "      <th>32</th>\n",
       "      <td>fantasy</td>\n",
       "      <td>9.719580</td>\n",
       "    </tr>\n",
       "    <tr>\n",
       "      <th>33</th>\n",
       "      <td>fantasy, action</td>\n",
       "      <td>9.574576</td>\n",
       "    </tr>\n",
       "    <tr>\n",
       "      <th>34</th>\n",
       "      <td>fantasy, drama</td>\n",
       "      <td>9.693237</td>\n",
       "    </tr>\n",
       "    <tr>\n",
       "      <th>35</th>\n",
       "      <td>fantasy, historical</td>\n",
       "      <td>9.681429</td>\n",
       "    </tr>\n",
       "    <tr>\n",
       "      <th>36</th>\n",
       "      <td>fantasy, pure</td>\n",
       "      <td>9.645517</td>\n",
       "    </tr>\n",
       "    <tr>\n",
       "      <th>37</th>\n",
       "      <td>fantasy, sensibility</td>\n",
       "      <td>9.745476</td>\n",
       "    </tr>\n",
       "    <tr>\n",
       "      <th>38</th>\n",
       "      <td>fantasy, thrill</td>\n",
       "      <td>9.638923</td>\n",
       "    </tr>\n",
       "    <tr>\n",
       "      <th>39</th>\n",
       "      <td>historical</td>\n",
       "      <td>9.686667</td>\n",
       "    </tr>\n",
       "    <tr>\n",
       "      <th>40</th>\n",
       "      <td>historical, sports</td>\n",
       "      <td>9.640000</td>\n",
       "    </tr>\n",
       "    <tr>\n",
       "      <th>41</th>\n",
       "      <td>pure</td>\n",
       "      <td>9.763750</td>\n",
       "    </tr>\n",
       "    <tr>\n",
       "      <th>42</th>\n",
       "      <td>pure, historical</td>\n",
       "      <td>9.613333</td>\n",
       "    </tr>\n",
       "    <tr>\n",
       "      <th>43</th>\n",
       "      <td>pure, sensibility</td>\n",
       "      <td>9.684394</td>\n",
       "    </tr>\n",
       "    <tr>\n",
       "      <th>44</th>\n",
       "      <td>pure, sports</td>\n",
       "      <td>9.780000</td>\n",
       "    </tr>\n",
       "    <tr>\n",
       "      <th>45</th>\n",
       "      <td>pure, thrill</td>\n",
       "      <td>9.569524</td>\n",
       "    </tr>\n",
       "    <tr>\n",
       "      <th>46</th>\n",
       "      <td>sensibility</td>\n",
       "      <td>9.675769</td>\n",
       "    </tr>\n",
       "    <tr>\n",
       "      <th>47</th>\n",
       "      <td>sensibility, historical</td>\n",
       "      <td>9.805000</td>\n",
       "    </tr>\n",
       "    <tr>\n",
       "      <th>48</th>\n",
       "      <td>sensibility, thrill</td>\n",
       "      <td>9.724000</td>\n",
       "    </tr>\n",
       "    <tr>\n",
       "      <th>49</th>\n",
       "      <td>sports</td>\n",
       "      <td>9.490000</td>\n",
       "    </tr>\n",
       "    <tr>\n",
       "      <th>50</th>\n",
       "      <td>thrill</td>\n",
       "      <td>9.685882</td>\n",
       "    </tr>\n",
       "    <tr>\n",
       "      <th>51</th>\n",
       "      <td>thrill, historical</td>\n",
       "      <td>9.643333</td>\n",
       "    </tr>\n",
       "  </tbody>\n",
       "</table>\n",
       "</div>"
      ],
      "text/plain": [
       "                      genre    rating\n",
       "0                    action  9.445000\n",
       "1             action, drama  9.582432\n",
       "2        action, historical  9.537778\n",
       "3              action, pure  9.668000\n",
       "4       action, sensibility  9.833333\n",
       "5            action, sports  9.354444\n",
       "6            action, thrill  9.504250\n",
       "7                     comic  9.587083\n",
       "8             comic, action  9.516364\n",
       "9              comic, drama  9.518491\n",
       "10           comic, fantasy  9.664560\n",
       "11        comic, historical  9.783333\n",
       "12              comic, pure  9.703562\n",
       "13       comic, sensibility  9.551852\n",
       "14            comic, sports  9.096667\n",
       "15            comic, thrill  9.632500\n",
       "16                    daily  9.679922\n",
       "17            daily, action  9.728333\n",
       "18             daily, comic  9.702791\n",
       "19             daily, drama  9.537143\n",
       "20           daily, fantasy  9.628194\n",
       "21        daily, historical  9.846667\n",
       "22              daily, pure  9.655294\n",
       "23       daily, sensibility  9.736621\n",
       "24            daily, sports  9.471250\n",
       "25            daily, thrill  9.697500\n",
       "26                    drama  9.582241\n",
       "27        drama, historical  9.618750\n",
       "28              drama, pure  9.605650\n",
       "29       drama, sensibility  9.612286\n",
       "30            drama, sports  9.172353\n",
       "31            drama, thrill  9.618977\n",
       "32                  fantasy  9.719580\n",
       "33          fantasy, action  9.574576\n",
       "34           fantasy, drama  9.693237\n",
       "35      fantasy, historical  9.681429\n",
       "36            fantasy, pure  9.645517\n",
       "37     fantasy, sensibility  9.745476\n",
       "38          fantasy, thrill  9.638923\n",
       "39               historical  9.686667\n",
       "40       historical, sports  9.640000\n",
       "41                     pure  9.763750\n",
       "42         pure, historical  9.613333\n",
       "43        pure, sensibility  9.684394\n",
       "44             pure, sports  9.780000\n",
       "45             pure, thrill  9.569524\n",
       "46              sensibility  9.675769\n",
       "47  sensibility, historical  9.805000\n",
       "48      sensibility, thrill  9.724000\n",
       "49                   sports  9.490000\n",
       "50                   thrill  9.685882\n",
       "51       thrill, historical  9.643333"
      ]
     },
     "execution_count": 37,
     "metadata": {},
     "output_type": "execute_result"
    }
   ],
   "source": [
    "# genre별 rating의 평균 확인\n",
    "ch_genre_grp = challenge.groupby('genre', as_index=False)['rating'].mean()\n",
    "ch_genre_grp"
   ]
  },
  {
   "cell_type": "code",
   "execution_count": 38,
   "id": "9b7f5777-bd21-4e48-a33e-42d15da5ed5d",
   "metadata": {},
   "outputs": [
    {
     "data": {
      "image/png": "[encoded data removed]",
      "text/plain": [
       "<Figure size 1500x700 with 1 Axes>"
      ]
     },
     "metadata": {},
     "output_type": "display_data"
    }
   ],
   "source": [
    "# genre별 serial여부를 시각화\n",
    "temp = pd.crosstab(challenge['genre'], challenge['serial'], normalize='index')\n",
    "\n",
    "fig, ax = plt.subplots(figsize=(15, 7))\n",
    "temp.plot.bar(stacked=True, ax=ax)\n",
    "plt.axhline(1 - challenge['serial'].mean(), color='r')\n",
    "plt.xticks(rotation=90)\n",
    "plt.show()"
   ]
  },
  {
   "cell_type": "markdown",
   "id": "c95f4f6b-dd58-4270-a058-541678e086af",
   "metadata": {},
   "source": [
    "얼핏보았을때, thrill과 historical이 들어간 장르가 정식 연재가 많이 된것으로 보임"
   ]
  },
  {
   "cell_type": "code",
   "execution_count": 58,
   "id": "a01a093b-cb2d-4c4f-988b-40e865cc196e",
   "metadata": {},
   "outputs": [
    {
     "data": {
      "text/plain": [
       "Chi2ContingencyResult(statistic=101.01887748708923, pvalue=3.817103208409436e-05, dof=51, expected_freq=array([[2.24812030e+01, 1.51879699e+00],\n",
       "       [3.46585213e+01, 2.34147870e+00],\n",
       "       [8.43045113e+00, 5.69548872e-01],\n",
       "       [4.68358396e+00, 3.16416040e-01],\n",
       "       [2.81015038e+00, 1.89849624e-01],\n",
       "       [8.43045113e+00, 5.69548872e-01],\n",
       "       [3.74686717e+01, 2.53132832e+00],\n",
       "       [4.49624060e+01, 3.03759398e+00],\n",
       "       [2.06077694e+01, 1.39223058e+00],\n",
       "       [4.96459900e+01, 3.35401003e+00],\n",
       "       [1.17089599e+02, 7.91040100e+00],\n",
       "       [5.62030075e+00, 3.79699248e-01],\n",
       "       [6.83803258e+01, 4.61967419e+00],\n",
       "       [2.52913534e+01, 1.70864662e+00],\n",
       "       [5.62030075e+00, 3.79699248e-01],\n",
       "       [1.12406015e+01, 7.59398496e-01],\n",
       "       [2.40736216e+02, 1.62637845e+01],\n",
       "       [5.62030075e+00, 3.79699248e-01],\n",
       "       [3.05369674e+02, 2.06303258e+01],\n",
       "       [9.83552632e+01, 6.64473684e+00],\n",
       "       [6.74436090e+01, 4.55639098e+00],\n",
       "       [2.81015038e+00, 1.89849624e-01],\n",
       "       [4.77725564e+01, 3.22744361e+00],\n",
       "       [1.35823935e+02, 9.17606516e+00],\n",
       "       [7.49373434e+00, 5.06265664e-01],\n",
       "       [1.12406015e+01, 7.59398496e-01],\n",
       "       [5.43295739e+01, 3.67042607e+00],\n",
       "       [2.24812030e+01, 1.51879699e+00],\n",
       "       [2.08887845e+02, 1.41121554e+01],\n",
       "       [9.83552632e+01, 6.64473684e+00],\n",
       "       [3.18483709e+01, 2.15162907e+00],\n",
       "       [8.24310777e+01, 5.56892231e+00],\n",
       "       [1.11469298e+02, 7.53070175e+00],\n",
       "       [2.53850251e+02, 1.71497494e+01],\n",
       "       [1.93900376e+02, 1.30996241e+01],\n",
       "       [3.93421053e+01, 2.65789474e+00],\n",
       "       [1.62988722e+02, 1.10112782e+01],\n",
       "       [3.93421053e+01, 2.65789474e+00],\n",
       "       [6.08865915e+01, 4.11340852e+00],\n",
       "       [5.62030075e+00, 3.79699248e-01],\n",
       "       [1.87343358e+00, 1.26566416e-01],\n",
       "       [4.49624060e+01, 3.03759398e+00],\n",
       "       [1.40507519e+01, 9.49248120e-01],\n",
       "       [6.18233083e+01, 4.17669173e+00],\n",
       "       [9.36716792e-01, 6.32832080e-02],\n",
       "       [1.96710526e+01, 1.32894737e+00],\n",
       "       [2.43546366e+01, 1.64536341e+00],\n",
       "       [1.87343358e+00, 1.26566416e-01],\n",
       "       [4.68358396e+00, 3.16416040e-01],\n",
       "       [9.36716792e+00, 6.32832080e-01],\n",
       "       [4.77725564e+01, 3.22744361e+00],\n",
       "       [2.81015038e+00, 1.89849624e-01]]))"
      ]
     },
     "execution_count": 58,
     "metadata": {},
     "output_type": "execute_result"
    }
   ],
   "source": [
    "genre_serial = pd.crosstab(challenge['genre'], challenge['serial'], normalize=False)\n",
    "spst.chi2_contingency(genre_serial)"
   ]
  },
  {
   "cell_type": "code",
   "execution_count": 59,
   "id": "b0c17395-47ba-4d67-be2f-89bb96c9ad29",
   "metadata": {},
   "outputs": [
    {
     "data": {
      "text/plain": [
       "Chi2ContingencyResult(statistic=4.082940561828316, pvalue=1.0, dof=51, expected_freq=array([[0.93159628, 0.06840372],\n",
       "       [0.93159628, 0.06840372],\n",
       "       [0.93159628, 0.06840372],\n",
       "       [0.93159628, 0.06840372],\n",
       "       [0.93159628, 0.06840372],\n",
       "       [0.93159628, 0.06840372],\n",
       "       [0.93159628, 0.06840372],\n",
       "       [0.93159628, 0.06840372],\n",
       "       [0.93159628, 0.06840372],\n",
       "       [0.93159628, 0.06840372],\n",
       "       [0.93159628, 0.06840372],\n",
       "       [0.93159628, 0.06840372],\n",
       "       [0.93159628, 0.06840372],\n",
       "       [0.93159628, 0.06840372],\n",
       "       [0.93159628, 0.06840372],\n",
       "       [0.93159628, 0.06840372],\n",
       "       [0.93159628, 0.06840372],\n",
       "       [0.93159628, 0.06840372],\n",
       "       [0.93159628, 0.06840372],\n",
       "       [0.93159628, 0.06840372],\n",
       "       [0.93159628, 0.06840372],\n",
       "       [0.93159628, 0.06840372],\n",
       "       [0.93159628, 0.06840372],\n",
       "       [0.93159628, 0.06840372],\n",
       "       [0.93159628, 0.06840372],\n",
       "       [0.93159628, 0.06840372],\n",
       "       [0.93159628, 0.06840372],\n",
       "       [0.93159628, 0.06840372],\n",
       "       [0.93159628, 0.06840372],\n",
       "       [0.93159628, 0.06840372],\n",
       "       [0.93159628, 0.06840372],\n",
       "       [0.93159628, 0.06840372],\n",
       "       [0.93159628, 0.06840372],\n",
       "       [0.93159628, 0.06840372],\n",
       "       [0.93159628, 0.06840372],\n",
       "       [0.93159628, 0.06840372],\n",
       "       [0.93159628, 0.06840372],\n",
       "       [0.93159628, 0.06840372],\n",
       "       [0.93159628, 0.06840372],\n",
       "       [0.93159628, 0.06840372],\n",
       "       [0.93159628, 0.06840372],\n",
       "       [0.93159628, 0.06840372],\n",
       "       [0.93159628, 0.06840372],\n",
       "       [0.93159628, 0.06840372],\n",
       "       [0.93159628, 0.06840372],\n",
       "       [0.93159628, 0.06840372],\n",
       "       [0.93159628, 0.06840372],\n",
       "       [0.93159628, 0.06840372],\n",
       "       [0.93159628, 0.06840372],\n",
       "       [0.93159628, 0.06840372],\n",
       "       [0.93159628, 0.06840372],\n",
       "       [0.93159628, 0.06840372]]))"
      ]
     },
     "execution_count": 59,
     "metadata": {},
     "output_type": "execute_result"
    }
   ],
   "source": [
    "genre_serial = pd.crosstab(challenge['genre'], challenge['serial'], normalize='index')\n",
    "spst.chi2_contingency(genre_serial)"
   ]
  },
  {
   "cell_type": "code",
   "execution_count": 61,
   "id": "6c3ac8b2-13a7-44d0-bdda-1535b411664d",
   "metadata": {},
   "outputs": [
    {
     "data": {
      "text/plain": [
       "Chi2ContingencyResult(statistic=0.03164751800973973, pvalue=1.0, dof=51, expected_freq=array([[7.04298340e-03, 4.75813594e-04],\n",
       "       [1.08579327e-02, 7.33545958e-04],\n",
       "       [2.64111877e-03, 1.78430098e-04],\n",
       "       [1.46728821e-03, 9.91278321e-05],\n",
       "       [8.80372925e-04, 5.94766993e-05],\n",
       "       [2.64111877e-03, 1.78430098e-04],\n",
       "       [1.17383057e-02, 7.93022657e-04],\n",
       "       [1.40859668e-02, 9.51627188e-04],\n",
       "       [6.45606812e-03, 4.36162461e-04],\n",
       "       [1.55532550e-02, 1.05075502e-03],\n",
       "       [3.66822052e-02, 2.47819580e-03],\n",
       "       [1.76074585e-03, 1.18953399e-04],\n",
       "       [2.14224078e-02, 1.44726635e-03],\n",
       "       [7.92335632e-03, 5.35290293e-04],\n",
       "       [1.76074585e-03, 1.18953399e-04],\n",
       "       [3.52149170e-03, 2.37906797e-04],\n",
       "       [7.54186139e-02, 5.09517057e-03],\n",
       "       [1.76074585e-03, 1.18953399e-04],\n",
       "       [9.56671912e-02, 6.46313465e-03],\n",
       "       [3.08130524e-02, 2.08168447e-03],\n",
       "       [2.11289502e-02, 1.42744078e-03],\n",
       "       [8.80372925e-04, 5.94766993e-05],\n",
       "       [1.49663397e-02, 1.01110389e-03],\n",
       "       [4.25513580e-02, 2.87470713e-03],\n",
       "       [2.34766113e-03, 1.58604531e-04],\n",
       "       [3.52149170e-03, 2.37906797e-04],\n",
       "       [1.70205432e-02, 1.14988285e-03],\n",
       "       [7.04298340e-03, 4.75813594e-04],\n",
       "       [6.54410541e-02, 4.42110131e-03],\n",
       "       [3.08130524e-02, 2.08168447e-03],\n",
       "       [9.97755981e-03, 6.74069258e-04],\n",
       "       [2.58242725e-02, 1.74464985e-03],\n",
       "       [3.49214594e-02, 2.35924240e-03],\n",
       "       [7.95270209e-02, 5.37272850e-03],\n",
       "       [6.07457318e-02, 4.10389225e-03],\n",
       "       [1.23252209e-02, 8.32673790e-04],\n",
       "       [5.10616296e-02, 3.44964856e-03],\n",
       "       [1.23252209e-02, 8.32673790e-04],\n",
       "       [1.90747467e-02, 1.28866182e-03],\n",
       "       [1.76074585e-03, 1.18953399e-04],\n",
       "       [5.86915283e-04, 3.96511328e-05],\n",
       "       [1.40859668e-02, 9.51627188e-04],\n",
       "       [4.40186462e-03, 2.97383496e-04],\n",
       "       [1.93682043e-02, 1.30848738e-03],\n",
       "       [2.93457642e-04, 1.98255664e-05],\n",
       "       [6.16261047e-03, 4.16336895e-04],\n",
       "       [7.62989868e-03, 5.15464727e-04],\n",
       "       [5.86915283e-04, 3.96511328e-05],\n",
       "       [1.46728821e-03, 9.91278321e-05],\n",
       "       [2.93457642e-03, 1.98255664e-04],\n",
       "       [1.49663397e-02, 1.01110389e-03],\n",
       "       [8.80372925e-04, 5.94766993e-05]]))"
      ]
     },
     "execution_count": 61,
     "metadata": {},
     "output_type": "execute_result"
    }
   ],
   "source": [
    "genre_serial = pd.crosstab(challenge['genre'], challenge['serial'], normalize='all')\n",
    "spst.chi2_contingency(genre_serial)"
   ]
  },
  {
   "cell_type": "markdown",
   "id": "4c79d18b-80bb-4c6c-afce-ebf6338eb403",
   "metadata": {},
   "source": [
    "**카이제곱 검정 결과, p-value의 값이 0.05보다 작기 때문에 장르와 정식연재 여부과 관련이 있어 보임**"
   ]
  },
  {
   "cell_type": "markdown",
   "id": "1258ddf8-3534-4bd5-9616-c9aefaf88102",
   "metadata": {},
   "source": [
    "---\n",
    "## 가설3: 형식(format)이 정식 연재 여부(serial)에 영향을 줄 것이다.\n",
    "\n",
    "### 설명: 웹툰 형식(예: 단편, 장편)이 정식 연재로 이어질 가능성에 차이가 있을 것이다.\n",
    "=> 관련없음"
   ]
  },
  {
   "cell_type": "code",
   "execution_count": 40,
   "id": "49705da0-01c7-4751-8603-0da614b56fa3",
   "metadata": {},
   "outputs": [
    {
     "data": {
      "text/plain": [
       "format\n",
       "스토리\\n\\n    2069\n",
       "에피소드        852\n",
       "옴니버스        271\n",
       "Name: count, dtype: int64"
      ]
     },
     "execution_count": 40,
     "metadata": {},
     "output_type": "execute_result"
    }
   ],
   "source": [
    "challenge['format'].value_counts()"
   ]
  },
  {
   "cell_type": "code",
   "execution_count": 41,
   "id": "323e3a3b-1778-4bcd-8890-1e50860bdf77",
   "metadata": {},
   "outputs": [],
   "source": [
    "challenge['format'] = challenge['format'].replace({'스토리\\n\\n':'스토리'})"
   ]
  },
  {
   "cell_type": "code",
   "execution_count": 42,
   "id": "fea0d922-8778-47fa-945f-9b1cf4f71efa",
   "metadata": {},
   "outputs": [
    {
     "data": {
      "text/plain": [
       "format\n",
       "스토리     2069\n",
       "에피소드     852\n",
       "옴니버스     271\n",
       "Name: count, dtype: int64"
      ]
     },
     "execution_count": 42,
     "metadata": {},
     "output_type": "execute_result"
    }
   ],
   "source": [
    "challenge['format'].value_counts()"
   ]
  },
  {
   "cell_type": "code",
   "execution_count": 43,
   "id": "268b2084-53b1-40c4-b0b6-bbfa0bb4fc45",
   "metadata": {},
   "outputs": [
    {
     "data": {
      "image/png": "[encoded data removed]",
      "text/plain": [
       "<Figure size 640x480 with 3 Axes>"
      ]
     },
     "metadata": {},
     "output_type": "display_data"
    }
   ],
   "source": [
    "# format별 serial여부를 mosaicplot으로 시각화\n",
    "mosaic(challenge, ['format','serial'])\n",
    "plt.axhline(1-challenge['serial'].mean(), color = 'r')\n",
    "plt.show()"
   ]
  },
  {
   "cell_type": "markdown",
   "id": "83e398d8-de36-4d3b-ac9b-ef1db34e40e0",
   "metadata": {},
   "source": [
    "모자이크플롯으로만 봐도 관련이 없어 보임"
   ]
  },
  {
   "cell_type": "code",
   "execution_count": 44,
   "id": "16dd1b49-aeaf-4653-8bf5-2017ad9b9d15",
   "metadata": {},
   "outputs": [
    {
     "data": {
      "text/plain": [
       "Chi2ContingencyResult(statistic=12.715783771637566, pvalue=0.0017330162598272686, dof=2, expected_freq=array([[1938.06704261,  130.93295739],\n",
       "       [ 798.08270677,   53.91729323],\n",
       "       [ 253.85025063,   17.14974937]]))"
      ]
     },
     "execution_count": 44,
     "metadata": {},
     "output_type": "execute_result"
    }
   ],
   "source": [
    "format_serial = pd.crosstab(challenge['format'], challenge['serial'])\n",
    "spst.chi2_contingency(format_serial)"
   ]
  },
  {
   "cell_type": "markdown",
   "id": "c89b65eb-6ae3-451c-a060-707f9ea3e517",
   "metadata": {},
   "source": [
    "**카이제곱 결과, p-value의 값이 0.05보다 작음. 관련이 있다고함**"
   ]
  },
  {
   "cell_type": "markdown",
   "id": "f846d7e3-15bb-498a-9f11-bc863badd906",
   "metadata": {},
   "source": [
    "---\n",
    "## 타겟 변수: rating (평점)가설: 베스트 도전 웹툰의 평점(naver_challenge.csv)과 정식 연재 후 평점(naver.csv)이 변화할 것이다.\n",
    "### 설명: 베스트 도전에서 정식 연재로 이어진 웹툰들은 정식 연재 이후 더 높은 평점을 받을 가능성이 있을 것이다."
   ]
  },
  {
   "cell_type": "code",
   "execution_count": 45,
   "id": "07607af6-7b65-4909-a01a-f0d63aab4c44",
   "metadata": {},
   "outputs": [
    {
     "data": {
      "text/plain": [
       "0"
      ]
     },
     "execution_count": 45,
     "metadata": {},
     "output_type": "execute_result"
    }
   ],
   "source": [
    "# challenge 행의 개수가 naver행의 개수 보다 크기 때문에 challenge를 베이스로 함\n",
    "merge_df = pd.merge(challenge, naver, how='left', on='id')\n",
    "merge_df['rating_y'].notnull().sum()"
   ]
  },
  {
   "cell_type": "code",
   "execution_count": 46,
   "id": "15384aee-76c8-4c4e-be22-d1951da1d4ad",
   "metadata": {},
   "outputs": [
    {
     "data": {
      "text/plain": [
       "0        NaN\n",
       "1        NaN\n",
       "2        NaN\n",
       "3        NaN\n",
       "4        NaN\n",
       "        ... \n",
       "3187     NaN\n",
       "3188     NaN\n",
       "3189     NaN\n",
       "3190    9.98\n",
       "3191     NaN\n",
       "Name: rating_y, Length: 3192, dtype: float64"
      ]
     },
     "execution_count": 46,
     "metadata": {},
     "output_type": "execute_result"
    }
   ],
   "source": [
    "merge_df2 = pd.merge(challenge, naver, how='left', on='title')\n",
    "merge_df2['rating_y']"
   ]
  },
  {
   "cell_type": "code",
   "execution_count": 47,
   "id": "ffa7cb29-4676-42cd-a716-fb59919791f7",
   "metadata": {},
   "outputs": [
    {
     "data": {
      "text/plain": [
       "184"
      ]
     },
     "execution_count": 47,
     "metadata": {},
     "output_type": "execute_result"
    }
   ],
   "source": [
    "merge_df2['rating_y'].notnull().sum()"
   ]
  },
  {
   "cell_type": "markdown",
   "id": "8e518d6c-cdee-4c3d-ae18-70f93211e43c",
   "metadata": {},
   "source": [
    "title 컬럼으로 합쳐진 행의 개수 184개"
   ]
  },
  {
   "cell_type": "code",
   "execution_count": 48,
   "id": "05e0b61e-f152-416e-bfd5-c9465e299174",
   "metadata": {},
   "outputs": [
    {
     "data": {
      "text/plain": [
       "Index(['id_x', 'title', 'author_x', 'summary', 'rating_x', 'genre_x', 'format',\n",
       "       'description_x', 'serial', 'potenup', 'link_x', 'id_y', 'author_y',\n",
       "       'genre_y', 'description_y', 'rating_y', 'date', 'completed', 'age',\n",
       "       'free', 'link_y'],\n",
       "      dtype='object')"
      ]
     },
     "execution_count": 48,
     "metadata": {},
     "output_type": "execute_result"
    }
   ],
   "source": [
    "merge_df2.columns"
   ]
  },
  {
   "cell_type": "code",
   "execution_count": 49,
   "id": "82e774eb-65c1-4d21-a32c-6df3c3ce30f2",
   "metadata": {},
   "outputs": [
    {
     "data": {
      "text/html": [
       "<div>\n",
       "<style scoped>\n",
       "    .dataframe tbody tr th:only-of-type {\n",
       "        vertical-align: middle;\n",
       "    }\n",
       "\n",
       "    .dataframe tbody tr th {\n",
       "        vertical-align: top;\n",
       "    }\n",
       "\n",
       "    .dataframe thead th {\n",
       "        text-align: right;\n",
       "    }\n",
       "</style>\n",
       "<table border=\"1\" class=\"dataframe\">\n",
       "  <thead>\n",
       "    <tr style=\"text-align: right;\">\n",
       "      <th></th>\n",
       "      <th>title</th>\n",
       "      <th>summary</th>\n",
       "      <th>rating_x</th>\n",
       "      <th>genre_x</th>\n",
       "      <th>format</th>\n",
       "      <th>description_x</th>\n",
       "      <th>serial</th>\n",
       "      <th>genre_y</th>\n",
       "      <th>description_y</th>\n",
       "      <th>rating_y</th>\n",
       "      <th>date</th>\n",
       "      <th>completed</th>\n",
       "      <th>age</th>\n",
       "      <th>free</th>\n",
       "    </tr>\n",
       "  </thead>\n",
       "  <tbody>\n",
       "    <tr>\n",
       "      <th>0</th>\n",
       "      <td>고고고</td>\n",
       "      <td>집사가 되어라!!!</td>\n",
       "      <td>9.89</td>\n",
       "      <td>daily, comic</td>\n",
       "      <td>에피소드</td>\n",
       "      <td>\"너, 내 집사가 되어라!\" 어느 날 갑자기 고양이 세 마리의 간택을 받게 된 집사...</td>\n",
       "      <td>False</td>\n",
       "      <td>스토리, 판타지</td>\n",
       "      <td>치매 걸린 할아버지, 게임 폐인 아빠와 살고 있는 고민\\n원효대사가 남긴 해골물을 ...</td>\n",
       "      <td>9.97</td>\n",
       "      <td>2015.11.17 23:08</td>\n",
       "      <td>True</td>\n",
       "      <td>전체연령가</td>\n",
       "      <td>False</td>\n",
       "    </tr>\n",
       "    <tr>\n",
       "      <th>1</th>\n",
       "      <td>킬링타임</td>\n",
       "      <td>일상 블랙코미디</td>\n",
       "      <td>9.85</td>\n",
       "      <td>daily, comic</td>\n",
       "      <td>에피소드</td>\n",
       "      <td>\"마지막으로 남기고 싶은 말은?\"\\r\\n\\r\\n어릴 적부터 살인만을 위해 살아온 초...</td>\n",
       "      <td>False</td>\n",
       "      <td>스토리, 스릴러</td>\n",
       "      <td>\"언니, 살려줘!\"3년전 죽은 동생에게서 전화가 왔다과거와 연결된 핸드폰을 이용해,...</td>\n",
       "      <td>9.93</td>\n",
       "      <td>2020.08.03 23:21</td>\n",
       "      <td>True</td>\n",
       "      <td>15세 이용가</td>\n",
       "      <td>True</td>\n",
       "    </tr>\n",
       "    <tr>\n",
       "      <th>2</th>\n",
       "      <td>여우자매</td>\n",
       "      <td>네이버화요웹툰</td>\n",
       "      <td>9.90</td>\n",
       "      <td>daily, historical</td>\n",
       "      <td>옴니버스</td>\n",
       "      <td>아주 먼 옛날, 무서운 요괴로 알려진 구미호와는 거리가 먼 꼬마 여우자매 류월,류화...</td>\n",
       "      <td>True</td>\n",
       "      <td>에피소드, 판타지</td>\n",
       "      <td>인간을 홀리고, 간을 빼먹는 무시무시한 요괴 구미호....와는 거리가 아주 먼 꼬마...</td>\n",
       "      <td>9.95</td>\n",
       "      <td>2022.12.26 22:50</td>\n",
       "      <td>False</td>\n",
       "      <td>전체연령가</td>\n",
       "      <td>False</td>\n",
       "    </tr>\n",
       "    <tr>\n",
       "      <th>3</th>\n",
       "      <td>메모리얼</td>\n",
       "      <td>기억을 찾아서</td>\n",
       "      <td>9.66</td>\n",
       "      <td>daily, thrill</td>\n",
       "      <td>스토리</td>\n",
       "      <td>[자유연재] 평소와 같이 행복한 하루를 보내고 있던 '민희'.\\r\\n예전부터 좋아하...</td>\n",
       "      <td>True</td>\n",
       "      <td>스토리, 스릴러</td>\n",
       "      <td>평범한 일상을 보내고 있던 고등학생 '민희'는 예전부터 좋아하던 친구에게 고백을 계...</td>\n",
       "      <td>9.91</td>\n",
       "      <td>2022.12.27 23:00</td>\n",
       "      <td>False</td>\n",
       "      <td>15세 이용가</td>\n",
       "      <td>False</td>\n",
       "    </tr>\n",
       "    <tr>\n",
       "      <th>4</th>\n",
       "      <td>대학원 탈출일지</td>\n",
       "      <td>대학원에서 살아남기</td>\n",
       "      <td>9.90</td>\n",
       "      <td>daily</td>\n",
       "      <td>에피소드</td>\n",
       "      <td>잘못된 선택을 한 사람들의 이야기\\r\\n(자유 연재)</td>\n",
       "      <td>True</td>\n",
       "      <td>에피소드, 일상</td>\n",
       "      <td>연구에 꿈을 가지고 대학원을 선택한 병아리 요다.예상과는 다르게 연구에 관심 없는 ...</td>\n",
       "      <td>9.97</td>\n",
       "      <td>2022.12.29 22:59</td>\n",
       "      <td>False</td>\n",
       "      <td>전체연령가</td>\n",
       "      <td>False</td>\n",
       "    </tr>\n",
       "    <tr>\n",
       "      <th>...</th>\n",
       "      <td>...</td>\n",
       "      <td>...</td>\n",
       "      <td>...</td>\n",
       "      <td>...</td>\n",
       "      <td>...</td>\n",
       "      <td>...</td>\n",
       "      <td>...</td>\n",
       "      <td>...</td>\n",
       "      <td>...</td>\n",
       "      <td>...</td>\n",
       "      <td>...</td>\n",
       "      <td>...</td>\n",
       "      <td>...</td>\n",
       "      <td>...</td>\n",
       "    </tr>\n",
       "    <tr>\n",
       "      <th>172</th>\n",
       "      <td>궤짝</td>\n",
       "      <td>어두운본성을마주하다</td>\n",
       "      <td>9.71</td>\n",
       "      <td>thrill</td>\n",
       "      <td>옴니버스</td>\n",
       "      <td>마음속 낡은 궤짝을 들여다본다.\\r\\n충격과 공포의 옴니버스 스릴러.</td>\n",
       "      <td>False</td>\n",
       "      <td>옴니버스, 스릴러</td>\n",
       "      <td>축축한 복도, 엉켜있는 거미줄,복도 끝 낡은 장판 밑 비밀 지하실그 곳에는 정체 모...</td>\n",
       "      <td>9.51</td>\n",
       "      <td>2022.12.26 22:51</td>\n",
       "      <td>False</td>\n",
       "      <td>15세 이용가</td>\n",
       "      <td>False</td>\n",
       "    </tr>\n",
       "    <tr>\n",
       "      <th>173</th>\n",
       "      <td>미신</td>\n",
       "      <td>사이비 호러스릴러</td>\n",
       "      <td>9.66</td>\n",
       "      <td>thrill</td>\n",
       "      <td>스토리</td>\n",
       "      <td>방학을 맞이하여 할머니 집에서 지내게 된 남매, 장하준(18)과 장하나(10)\\r\\...</td>\n",
       "      <td>True</td>\n",
       "      <td>스토리, 스릴러</td>\n",
       "      <td>고향에 돌아와 할머니와 살게 된 '하준'과 '하나'그런 아이들을 기다리고 있는 건 ...</td>\n",
       "      <td>9.42</td>\n",
       "      <td>2022.09.26 23:00</td>\n",
       "      <td>True</td>\n",
       "      <td>15세 이용가</td>\n",
       "      <td>False</td>\n",
       "    </tr>\n",
       "    <tr>\n",
       "      <th>174</th>\n",
       "      <td>악인</td>\n",
       "      <td>현대판타지 스릴러</td>\n",
       "      <td>9.77</td>\n",
       "      <td>thrill</td>\n",
       "      <td>스토리</td>\n",
       "      <td>다른사람의 생각을 읽는 능력. 그 능력으로 살인마를 마주했을 때.</td>\n",
       "      <td>True</td>\n",
       "      <td>스토리, 스릴러</td>\n",
       "      <td>타인의 생각을 눈으로 볼 수 있는 주인공 봉강.자신의 능력을 이용해서 소소한 일상을...</td>\n",
       "      <td>9.75</td>\n",
       "      <td>2021.12.06 22:55</td>\n",
       "      <td>True</td>\n",
       "      <td>15세 이용가</td>\n",
       "      <td>True</td>\n",
       "    </tr>\n",
       "    <tr>\n",
       "      <th>175</th>\n",
       "      <td>새벽9시</td>\n",
       "      <td>어둠 속에 멈춰버린 시간, 새벽 9시. 오지마을 오왕리의 비밀이 드러난다.</td>\n",
       "      <td>9.79</td>\n",
       "      <td>thrill</td>\n",
       "      <td>스토리</td>\n",
       "      <td>산과 강으로 사방이 둘러싸인 오지마을 오왕리.\\n원인 모를 기이한 현상들이 일어나며...</td>\n",
       "      <td>True</td>\n",
       "      <td>스토리, 스릴러</td>\n",
       "      <td>어둠이 멈춰버린 시간 새벽 9시.오지마을 '오왕리'가 감추고 있던 비밀이 드러난다.</td>\n",
       "      <td>9.70</td>\n",
       "      <td>2013.07.26 23:22</td>\n",
       "      <td>True</td>\n",
       "      <td>15세 이용가</td>\n",
       "      <td>False</td>\n",
       "    </tr>\n",
       "    <tr>\n",
       "      <th>176</th>\n",
       "      <td>샌프란시스코 화랑관</td>\n",
       "      <td>미국 정통 한국 태권도</td>\n",
       "      <td>9.83</td>\n",
       "      <td>sports</td>\n",
       "      <td>옴니버스</td>\n",
       "      <td>샌프란시스코에 있는 화랑관 태권도장에 있는 유일한 한국인 가야에게 벌어지는 이야기.</td>\n",
       "      <td>True</td>\n",
       "      <td>스토리, 드라마</td>\n",
       "      <td>미국 샌프란시스코의 태권도장에서 일어나는각양각색 사람들의 진솔한 이야기</td>\n",
       "      <td>9.98</td>\n",
       "      <td>2016.03.09 23:06</td>\n",
       "      <td>True</td>\n",
       "      <td>전체연령가</td>\n",
       "      <td>True</td>\n",
       "    </tr>\n",
       "  </tbody>\n",
       "</table>\n",
       "<p>177 rows × 14 columns</p>\n",
       "</div>"
      ],
      "text/plain": [
       "          title                                    summary  rating_x  \\\n",
       "0           고고고                                 집사가 되어라!!!      9.89   \n",
       "1          킬링타임                                   일상 블랙코미디      9.85   \n",
       "2          여우자매                                    네이버화요웹툰      9.90   \n",
       "3          메모리얼                                    기억을 찾아서      9.66   \n",
       "4      대학원 탈출일지                                 대학원에서 살아남기      9.90   \n",
       "..          ...                                        ...       ...   \n",
       "172          궤짝                                 어두운본성을마주하다      9.71   \n",
       "173          미신                                  사이비 호러스릴러      9.66   \n",
       "174          악인                                  현대판타지 스릴러      9.77   \n",
       "175        새벽9시  어둠 속에 멈춰버린 시간, 새벽 9시. 오지마을 오왕리의 비밀이 드러난다.      9.79   \n",
       "176  샌프란시스코 화랑관                               미국 정통 한국 태권도      9.83   \n",
       "\n",
       "               genre_x format  \\\n",
       "0         daily, comic   에피소드   \n",
       "1         daily, comic   에피소드   \n",
       "2    daily, historical   옴니버스   \n",
       "3        daily, thrill    스토리   \n",
       "4                daily   에피소드   \n",
       "..                 ...    ...   \n",
       "172             thrill   옴니버스   \n",
       "173             thrill    스토리   \n",
       "174             thrill    스토리   \n",
       "175             thrill    스토리   \n",
       "176             sports   옴니버스   \n",
       "\n",
       "                                         description_x  serial    genre_y  \\\n",
       "0    \"너, 내 집사가 되어라!\" 어느 날 갑자기 고양이 세 마리의 간택을 받게 된 집사...   False   스토리, 판타지   \n",
       "1    \"마지막으로 남기고 싶은 말은?\"\\r\\n\\r\\n어릴 적부터 살인만을 위해 살아온 초...   False   스토리, 스릴러   \n",
       "2    아주 먼 옛날, 무서운 요괴로 알려진 구미호와는 거리가 먼 꼬마 여우자매 류월,류화...    True  에피소드, 판타지   \n",
       "3    [자유연재] 평소와 같이 행복한 하루를 보내고 있던 '민희'.\\r\\n예전부터 좋아하...    True   스토리, 스릴러   \n",
       "4                        잘못된 선택을 한 사람들의 이야기\\r\\n(자유 연재)    True   에피소드, 일상   \n",
       "..                                                 ...     ...        ...   \n",
       "172             마음속 낡은 궤짝을 들여다본다.\\r\\n충격과 공포의 옴니버스 스릴러.   False  옴니버스, 스릴러   \n",
       "173  방학을 맞이하여 할머니 집에서 지내게 된 남매, 장하준(18)과 장하나(10)\\r\\...    True   스토리, 스릴러   \n",
       "174               다른사람의 생각을 읽는 능력. 그 능력으로 살인마를 마주했을 때.    True   스토리, 스릴러   \n",
       "175  산과 강으로 사방이 둘러싸인 오지마을 오왕리.\\n원인 모를 기이한 현상들이 일어나며...    True   스토리, 스릴러   \n",
       "176     샌프란시스코에 있는 화랑관 태권도장에 있는 유일한 한국인 가야에게 벌어지는 이야기.    True   스토리, 드라마   \n",
       "\n",
       "                                         description_y  rating_y  \\\n",
       "0    치매 걸린 할아버지, 게임 폐인 아빠와 살고 있는 고민\\n원효대사가 남긴 해골물을 ...      9.97   \n",
       "1    \"언니, 살려줘!\"3년전 죽은 동생에게서 전화가 왔다과거와 연결된 핸드폰을 이용해,...      9.93   \n",
       "2    인간을 홀리고, 간을 빼먹는 무시무시한 요괴 구미호....와는 거리가 아주 먼 꼬마...      9.95   \n",
       "3    평범한 일상을 보내고 있던 고등학생 '민희'는 예전부터 좋아하던 친구에게 고백을 계...      9.91   \n",
       "4    연구에 꿈을 가지고 대학원을 선택한 병아리 요다.예상과는 다르게 연구에 관심 없는 ...      9.97   \n",
       "..                                                 ...       ...   \n",
       "172  축축한 복도, 엉켜있는 거미줄,복도 끝 낡은 장판 밑 비밀 지하실그 곳에는 정체 모...      9.51   \n",
       "173  고향에 돌아와 할머니와 살게 된 '하준'과 '하나'그런 아이들을 기다리고 있는 건 ...      9.42   \n",
       "174  타인의 생각을 눈으로 볼 수 있는 주인공 봉강.자신의 능력을 이용해서 소소한 일상을...      9.75   \n",
       "175     어둠이 멈춰버린 시간 새벽 9시.오지마을 '오왕리'가 감추고 있던 비밀이 드러난다.      9.70   \n",
       "176            미국 샌프란시스코의 태권도장에서 일어나는각양각색 사람들의 진솔한 이야기      9.98   \n",
       "\n",
       "                 date completed      age   free  \n",
       "0    2015.11.17 23:08      True    전체연령가  False  \n",
       "1    2020.08.03 23:21      True  15세 이용가   True  \n",
       "2    2022.12.26 22:50     False    전체연령가  False  \n",
       "3    2022.12.27 23:00     False  15세 이용가  False  \n",
       "4    2022.12.29 22:59     False    전체연령가  False  \n",
       "..                ...       ...      ...    ...  \n",
       "172  2022.12.26 22:51     False  15세 이용가  False  \n",
       "173  2022.09.26 23:00      True  15세 이용가  False  \n",
       "174  2021.12.06 22:55      True  15세 이용가   True  \n",
       "175  2013.07.26 23:22      True  15세 이용가  False  \n",
       "176  2016.03.09 23:06      True    전체연령가   True  \n",
       "\n",
       "[177 rows x 14 columns]"
      ]
     },
     "execution_count": 49,
     "metadata": {},
     "output_type": "execute_result"
    }
   ],
   "source": [
    "merge_df2 = merge_df2.dropna()\n",
    "merge_df2 = merge_df2.reset_index(drop=True)\n",
    "merge_df2 = merge_df2[['title', 'summary', 'rating_x', 'genre_x', 'format',\n",
    "       'description_x', 'serial',\n",
    "       'genre_y', 'description_y', 'rating_y', 'date', 'completed', 'age',\n",
    "       'free']]\n",
    "merge_df2"
   ]
  },
  {
   "cell_type": "code",
   "execution_count": 50,
   "id": "76d075f8-e479-4786-beb6-c817ac8bb261",
   "metadata": {},
   "outputs": [
    {
     "data": {
      "image/png": "[encoded data removed]",
      "text/plain": [
       "<Figure size 1000x600 with 1 Axes>"
      ]
     },
     "metadata": {},
     "output_type": "display_data"
    }
   ],
   "source": [
    "# 두 rating의 차이를 계산\n",
    "merge_df2['rating_diff'] = merge_df2['rating_x'] - merge_df2['rating_y']\n",
    "\n",
    "# 히스토그램으로 차이 시각화\n",
    "plt.figure(figsize=(10, 6))\n",
    "plt.hist(merge_df2['rating_diff'], bins=30, edgecolor='black', alpha=0.7)\n",
    "plt.title('정식연재 전 - 정식연재 후')\n",
    "plt.xlabel('Difference (rating_x - rating_y)')\n",
    "plt.ylabel('Frequency')\n",
    "plt.grid(True)\n",
    "plt.show()"
   ]
  },
  {
   "cell_type": "markdown",
   "id": "cc366ba7-2945-4845-b6bc-4c258ea3404a",
   "metadata": {},
   "source": [
    "음수일 경우가 정식 연재 후 평점이 오른것이다.\n",
    "\n",
    "그래프로 보았을 경우 음수인 경우가 많아 보인다."
   ]
  },
  {
   "cell_type": "code",
   "execution_count": 51,
   "id": "5b39b1aa-25f9-487f-afe5-7b43138f0fcb",
   "metadata": {},
   "outputs": [],
   "source": [
    "merge_df2['rating_up'] = [1 if diff < 0 else 0 for diff in merge_df2['rating_diff']]"
   ]
  },
  {
   "cell_type": "code",
   "execution_count": 52,
   "id": "1e3db30d-e94d-40b6-99c7-77333c9304ca",
   "metadata": {},
   "outputs": [
    {
     "data": {
      "text/plain": [
       "rating_up\n",
       "1    144\n",
       "0     33\n",
       "Name: count, dtype: int64"
      ]
     },
     "execution_count": 52,
     "metadata": {},
     "output_type": "execute_result"
    }
   ],
   "source": [
    "rating_up_counts = merge_df2['rating_up'].value_counts()\n",
    "rating_up_counts"
   ]
  },
  {
   "cell_type": "code",
   "execution_count": 53,
   "id": "13b2d659-0927-4a09-9676-f7d9f47587d1",
   "metadata": {},
   "outputs": [
    {
     "data": {
      "image/png": "[encoded data removed]",
      "text/plain": [
       "<Figure size 640x480 with 1 Axes>"
      ]
     },
     "metadata": {},
     "output_type": "display_data"
    }
   ],
   "source": [
    "sns.barplot(rating_up_counts)\n",
    "plt.show()"
   ]
  },
  {
   "cell_type": "markdown",
   "id": "f8a6b75e-e160-41be-b215-50b6bb0b0419",
   "metadata": {},
   "source": [
    "정식 연재 후 평점 상승한 웹툰이 많음을 볼 수 있다."
   ]
  }
 ],
 "metadata": {
  "kernelspec": {
   "display_name": "Python 3 (ipykernel)",
   "language": "python",
   "name": "python3"
  },
  "language_info": {
   "codemirror_mode": {
    "name": "ipython",
    "version": 3
   },
   "file_extension": ".py",
   "mimetype": "text/x-python",
   "name": "python",
   "nbconvert_exporter": "python",
   "pygments_lexer": "ipython3",
   "version": "3.12.4"
  }
 },
 "nbformat": 4,
 "nbformat_minor": 5
}
